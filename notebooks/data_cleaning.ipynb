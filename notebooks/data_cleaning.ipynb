{
 "cells": [
  {
   "cell_type": "markdown",
   "id": "fad36e79-e9a0-47cf-957b-e96b6b65b836",
   "metadata": {},
   "source": [
    "# Importing the libraries"
   ]
  },
  {
   "cell_type": "code",
   "execution_count": 1,
   "id": "ffd5a956-5413-4e87-aaf4-354679fd75c0",
   "metadata": {
    "tags": []
   },
   "outputs": [],
   "source": [
    "import pandas as pd\n",
    "from sklearn.preprocessing import StandardScaler\n",
    "from tqdm import tqdm"
   ]
  },
  {
   "cell_type": "markdown",
   "id": "6de25840-2d88-4b87-949a-35a13d1bed27",
   "metadata": {},
   "source": [
    "### Understanding the dimensions"
   ]
  },
  {
   "cell_type": "code",
   "execution_count": 10,
   "id": "62d7c7db-b4d9-48e9-92f6-264e0be40f3c",
   "metadata": {
    "collapsed": true,
    "jupyter": {
     "outputs_hidden": true
    },
    "tags": []
   },
   "outputs": [
    {
     "name": "stdout",
     "output_type": "stream",
     "text": [
      "Len:  US 233787\n",
      "Features:  16\n",
      "Len:  BR 233790\n",
      "Features:  16\n",
      "Len:  CA 233742\n",
      "Features:  16\n",
      "Len:  DE 233736\n",
      "Features:  16\n",
      "Len:  FR 233788\n",
      "Features:  16\n",
      "Len:  GB 233791\n",
      "Features:  16\n",
      "Len:  IN 221121\n",
      "Features:  16\n",
      "Len:  JP 233778\n",
      "Features:  16\n",
      "Len:  KR 230754\n",
      "Features:  16\n",
      "Len:  MX 233598\n",
      "Features:  16\n",
      "Len:  RU 216081\n",
      "Features:  16\n",
      "Total:  2537966\n"
     ]
    }
   ],
   "source": [
    "obs_count = 0\n",
    "\n",
    "for country in [\"US\", \"BR\", \"CA\", \"DE\", \"FR\", \"GB\", \"IN\", \"JP\", \"KR\", \"MX\", \"RU\"]:\n",
    "    df = pd.read_csv(\"../data/\"+country+\"_youtube_trending_data.csv\", parse_dates=[\"publishedAt\", \"trending_date\"])\n",
    "    obs_count += len(df)\n",
    "    print(\"Len: \", country, len(df))\n",
    "    \n",
    "    print(\"Features: \", len(us.columns))\n",
    "    \n",
    "\n",
    "print(\"Total: \", obs_count)"
   ]
  },
  {
   "cell_type": "markdown",
   "id": "22f690e5-c6f1-4c66-8c83-e37b76a4fad8",
   "metadata": {},
   "source": [
    "# Data loading"
   ]
  },
  {
   "cell_type": "code",
   "execution_count": 2,
   "id": "5bac3cc7-1890-4e7d-9496-d15abb58a1ac",
   "metadata": {
    "tags": []
   },
   "outputs": [
    {
     "data": {
      "text/html": [
       "<div>\n",
       "<style scoped>\n",
       "    .dataframe tbody tr th:only-of-type {\n",
       "        vertical-align: middle;\n",
       "    }\n",
       "\n",
       "    .dataframe tbody tr th {\n",
       "        vertical-align: top;\n",
       "    }\n",
       "\n",
       "    .dataframe thead th {\n",
       "        text-align: right;\n",
       "    }\n",
       "</style>\n",
       "<table border=\"1\" class=\"dataframe\">\n",
       "  <thead>\n",
       "    <tr style=\"text-align: right;\">\n",
       "      <th></th>\n",
       "      <th>video_id</th>\n",
       "      <th>title</th>\n",
       "      <th>publishedAt</th>\n",
       "      <th>channelId</th>\n",
       "      <th>channelTitle</th>\n",
       "      <th>categoryId</th>\n",
       "      <th>trending_date</th>\n",
       "      <th>tags</th>\n",
       "      <th>view_count</th>\n",
       "      <th>likes</th>\n",
       "      <th>dislikes</th>\n",
       "      <th>comment_count</th>\n",
       "      <th>thumbnail_link</th>\n",
       "      <th>comments_disabled</th>\n",
       "      <th>ratings_disabled</th>\n",
       "      <th>description</th>\n",
       "    </tr>\n",
       "  </thead>\n",
       "  <tbody>\n",
       "    <tr>\n",
       "      <th>0</th>\n",
       "      <td>3C66w5Z0ixs</td>\n",
       "      <td>I ASKED HER TO BE MY GIRLFRIEND...</td>\n",
       "      <td>2020-08-11 19:20:14+00:00</td>\n",
       "      <td>UCvtRTOMP2TqYqu51xNrqAzg</td>\n",
       "      <td>Brawadis</td>\n",
       "      <td>22</td>\n",
       "      <td>2020-08-12 00:00:00+00:00</td>\n",
       "      <td>brawadis|prank|basketball|skits|ghost|funny vi...</td>\n",
       "      <td>1514614</td>\n",
       "      <td>156908</td>\n",
       "      <td>5855</td>\n",
       "      <td>35313</td>\n",
       "      <td>https://i.ytimg.com/vi/3C66w5Z0ixs/default.jpg</td>\n",
       "      <td>False</td>\n",
       "      <td>False</td>\n",
       "      <td>SUBSCRIBE to BRAWADIS ▶ http://bit.ly/Subscrib...</td>\n",
       "    </tr>\n",
       "    <tr>\n",
       "      <th>1</th>\n",
       "      <td>M9Pmf9AB4Mo</td>\n",
       "      <td>Apex Legends | Stories from the Outlands – “Th...</td>\n",
       "      <td>2020-08-11 17:00:10+00:00</td>\n",
       "      <td>UC0ZV6M2THA81QT9hrVWJG3A</td>\n",
       "      <td>Apex Legends</td>\n",
       "      <td>20</td>\n",
       "      <td>2020-08-12 00:00:00+00:00</td>\n",
       "      <td>Apex Legends|Apex Legends characters|new Apex ...</td>\n",
       "      <td>2381688</td>\n",
       "      <td>146739</td>\n",
       "      <td>2794</td>\n",
       "      <td>16549</td>\n",
       "      <td>https://i.ytimg.com/vi/M9Pmf9AB4Mo/default.jpg</td>\n",
       "      <td>False</td>\n",
       "      <td>False</td>\n",
       "      <td>While running her own modding shop, Ramya Pare...</td>\n",
       "    </tr>\n",
       "  </tbody>\n",
       "</table>\n",
       "</div>"
      ],
      "text/plain": [
       "      video_id                                              title  \\\n",
       "0  3C66w5Z0ixs                 I ASKED HER TO BE MY GIRLFRIEND...   \n",
       "1  M9Pmf9AB4Mo  Apex Legends | Stories from the Outlands – “Th...   \n",
       "\n",
       "                publishedAt                 channelId  channelTitle  \\\n",
       "0 2020-08-11 19:20:14+00:00  UCvtRTOMP2TqYqu51xNrqAzg      Brawadis   \n",
       "1 2020-08-11 17:00:10+00:00  UC0ZV6M2THA81QT9hrVWJG3A  Apex Legends   \n",
       "\n",
       "   categoryId             trending_date  \\\n",
       "0          22 2020-08-12 00:00:00+00:00   \n",
       "1          20 2020-08-12 00:00:00+00:00   \n",
       "\n",
       "                                                tags  view_count   likes  \\\n",
       "0  brawadis|prank|basketball|skits|ghost|funny vi...     1514614  156908   \n",
       "1  Apex Legends|Apex Legends characters|new Apex ...     2381688  146739   \n",
       "\n",
       "   dislikes  comment_count                                  thumbnail_link  \\\n",
       "0      5855          35313  https://i.ytimg.com/vi/3C66w5Z0ixs/default.jpg   \n",
       "1      2794          16549  https://i.ytimg.com/vi/M9Pmf9AB4Mo/default.jpg   \n",
       "\n",
       "   comments_disabled  ratings_disabled  \\\n",
       "0              False             False   \n",
       "1              False             False   \n",
       "\n",
       "                                         description  \n",
       "0  SUBSCRIBE to BRAWADIS ▶ http://bit.ly/Subscrib...  \n",
       "1  While running her own modding shop, Ramya Pare...  "
      ]
     },
     "execution_count": 2,
     "metadata": {},
     "output_type": "execute_result"
    }
   ],
   "source": [
    "us = pd.read_csv(\"../data/US_youtube_trending_data.csv\",\n",
    "                 parse_dates=[\"publishedAt\", \"trending_date\"])\n",
    "us.head(2)"
   ]
  },
  {
   "cell_type": "code",
   "execution_count": 3,
   "id": "d8e94ec1-e5a7-49d4-a276-0da314178fc5",
   "metadata": {
    "tags": []
   },
   "outputs": [
    {
     "data": {
      "text/html": [
       "<div>\n",
       "<style scoped>\n",
       "    .dataframe tbody tr th:only-of-type {\n",
       "        vertical-align: middle;\n",
       "    }\n",
       "\n",
       "    .dataframe tbody tr th {\n",
       "        vertical-align: top;\n",
       "    }\n",
       "\n",
       "    .dataframe thead th {\n",
       "        text-align: right;\n",
       "    }\n",
       "</style>\n",
       "<table border=\"1\" class=\"dataframe\">\n",
       "  <thead>\n",
       "    <tr style=\"text-align: right;\">\n",
       "      <th></th>\n",
       "      <th>kind</th>\n",
       "      <th>etag</th>\n",
       "      <th>items</th>\n",
       "    </tr>\n",
       "  </thead>\n",
       "  <tbody>\n",
       "    <tr>\n",
       "      <th>0</th>\n",
       "      <td>youtube#videoCategoryListResponse</td>\n",
       "      <td>HIrK3n45Uw2IYz9_U2-gK1OsXvo</td>\n",
       "      <td>{'kind': 'youtube#videoCategory', 'etag': 'IfW...</td>\n",
       "    </tr>\n",
       "    <tr>\n",
       "      <th>1</th>\n",
       "      <td>youtube#videoCategoryListResponse</td>\n",
       "      <td>HIrK3n45Uw2IYz9_U2-gK1OsXvo</td>\n",
       "      <td>{'kind': 'youtube#videoCategory', 'etag': '5XG...</td>\n",
       "    </tr>\n",
       "  </tbody>\n",
       "</table>\n",
       "</div>"
      ],
      "text/plain": [
       "                                kind                         etag  \\\n",
       "0  youtube#videoCategoryListResponse  HIrK3n45Uw2IYz9_U2-gK1OsXvo   \n",
       "1  youtube#videoCategoryListResponse  HIrK3n45Uw2IYz9_U2-gK1OsXvo   \n",
       "\n",
       "                                               items  \n",
       "0  {'kind': 'youtube#videoCategory', 'etag': 'IfW...  \n",
       "1  {'kind': 'youtube#videoCategory', 'etag': '5XG...  "
      ]
     },
     "execution_count": 3,
     "metadata": {},
     "output_type": "execute_result"
    }
   ],
   "source": [
    "us_cat = pd.read_json(\"../data/US_category_id.json\")\n",
    "us_cat.head(2)"
   ]
  },
  {
   "cell_type": "markdown",
   "id": "a039c3dc-f701-420e-b8e9-7a8887422699",
   "metadata": {},
   "source": [
    "# Data Exploration and Manipulation"
   ]
  },
  {
   "cell_type": "code",
   "execution_count": 4,
   "id": "cce93bb7-7e41-46f6-ae57-f359da4216b0",
   "metadata": {},
   "outputs": [
    {
     "data": {
      "text/plain": [
       "(1, 1)"
      ]
     },
     "execution_count": 4,
     "metadata": {},
     "output_type": "execute_result"
    }
   ],
   "source": [
    "# discarding since they only have one value\n",
    "us_cat.kind.nunique(), us_cat.etag.nunique()"
   ]
  },
  {
   "cell_type": "markdown",
   "id": "27e50df2-8f30-4525-a5fb-84c41029709c",
   "metadata": {},
   "source": [
    "### Expanding Category JSON (items column)"
   ]
  },
  {
   "cell_type": "code",
   "execution_count": 5,
   "id": "ef67622b-2415-40cb-9ccf-52ba27ee0646",
   "metadata": {
    "tags": []
   },
   "outputs": [],
   "source": [
    "us_cat = pd.DataFrame.from_dict(\n",
    "    [cat_dict for cat_dict in us_cat[\"items\"]]\n",
    ").drop([\"kind\"], axis=1)\n",
    "\n",
    "us_cat[\"title\"] = us_cat[\"snippet\"].apply(lambda x: x[\"title\"])\n",
    "us_cat[\"assignable\"] = us_cat[\"snippet\"].apply(lambda x: x[\"assignable\"])\n",
    "#us_cat[\"channelId\"] = us_cat[\"snippet\"].apply(lambda x: x[\"channelId\"])\n",
    "us_cat.drop([\"snippet\"], axis=1, inplace=True)"
   ]
  },
  {
   "cell_type": "code",
   "execution_count": 6,
   "id": "7b117e68-6115-444a-bb2b-41e75ff39808",
   "metadata": {
    "tags": []
   },
   "outputs": [
    {
     "data": {
      "text/html": [
       "<div>\n",
       "<style scoped>\n",
       "    .dataframe tbody tr th:only-of-type {\n",
       "        vertical-align: middle;\n",
       "    }\n",
       "\n",
       "    .dataframe tbody tr th {\n",
       "        vertical-align: top;\n",
       "    }\n",
       "\n",
       "    .dataframe thead th {\n",
       "        text-align: right;\n",
       "    }\n",
       "</style>\n",
       "<table border=\"1\" class=\"dataframe\">\n",
       "  <thead>\n",
       "    <tr style=\"text-align: right;\">\n",
       "      <th></th>\n",
       "      <th>etag</th>\n",
       "      <th>id</th>\n",
       "      <th>title</th>\n",
       "      <th>assignable</th>\n",
       "    </tr>\n",
       "  </thead>\n",
       "  <tbody>\n",
       "    <tr>\n",
       "      <th>0</th>\n",
       "      <td>IfWa37JGcqZs-jZeAyFGkbeh6bc</td>\n",
       "      <td>1</td>\n",
       "      <td>Film &amp; Animation</td>\n",
       "      <td>True</td>\n",
       "    </tr>\n",
       "    <tr>\n",
       "      <th>1</th>\n",
       "      <td>5XGylIs7zkjHh5940dsT5862m1Y</td>\n",
       "      <td>2</td>\n",
       "      <td>Autos &amp; Vehicles</td>\n",
       "      <td>True</td>\n",
       "    </tr>\n",
       "  </tbody>\n",
       "</table>\n",
       "</div>"
      ],
      "text/plain": [
       "                          etag id             title  assignable\n",
       "0  IfWa37JGcqZs-jZeAyFGkbeh6bc  1  Film & Animation        True\n",
       "1  5XGylIs7zkjHh5940dsT5862m1Y  2  Autos & Vehicles        True"
      ]
     },
     "execution_count": 6,
     "metadata": {},
     "output_type": "execute_result"
    }
   ],
   "source": [
    "us_cat.head(2)"
   ]
  },
  {
   "cell_type": "markdown",
   "id": "d8ee0d38-48e8-4be0-9285-1ef66df0db1a",
   "metadata": {},
   "source": [
    "### Splitting tags"
   ]
  },
  {
   "cell_type": "code",
   "execution_count": 7,
   "id": "0eec470a-e8f7-4863-bca6-c055a9c243a1",
   "metadata": {
    "tags": []
   },
   "outputs": [],
   "source": [
    "us[\"tags\"] = us[\"tags\"].apply(\n",
    "    lambda x: x.split(\"|\") if x != \"[None]\" else None\n",
    ")"
   ]
  },
  {
   "cell_type": "markdown",
   "id": "a6c56318-a2dc-47cd-8de0-b79fd7d4b9a8",
   "metadata": {},
   "source": [
    "### Checking DTypes and NAN"
   ]
  },
  {
   "cell_type": "code",
   "execution_count": 8,
   "id": "5d33b6c5-1247-4fe1-8e29-e2b717db5861",
   "metadata": {
    "tags": []
   },
   "outputs": [
    {
     "data": {
      "text/plain": [
       "video_id                          object\n",
       "title                             object\n",
       "publishedAt          datetime64[ns, UTC]\n",
       "channelId                         object\n",
       "channelTitle                      object\n",
       "categoryId                         int64\n",
       "trending_date        datetime64[ns, UTC]\n",
       "tags                              object\n",
       "view_count                         int64\n",
       "likes                              int64\n",
       "dislikes                           int64\n",
       "comment_count                      int64\n",
       "thumbnail_link                    object\n",
       "comments_disabled                   bool\n",
       "ratings_disabled                    bool\n",
       "description                       object\n",
       "dtype: object"
      ]
     },
     "execution_count": 8,
     "metadata": {},
     "output_type": "execute_result"
    }
   ],
   "source": [
    "us.dtypes"
   ]
  },
  {
   "cell_type": "code",
   "execution_count": 9,
   "id": "92eee5e6-a8a1-4d6f-9126-6cfed3dc69e9",
   "metadata": {
    "tags": []
   },
   "outputs": [
    {
     "data": {
      "text/plain": [
       "video_id                 0\n",
       "title                    0\n",
       "publishedAt              0\n",
       "channelId                0\n",
       "channelTitle             0\n",
       "categoryId               0\n",
       "trending_date            0\n",
       "tags                 37836\n",
       "view_count               0\n",
       "likes                    0\n",
       "dislikes                 0\n",
       "comment_count            0\n",
       "thumbnail_link           0\n",
       "comments_disabled        0\n",
       "ratings_disabled         0\n",
       "description           4418\n",
       "dtype: int64"
      ]
     },
     "execution_count": 9,
     "metadata": {},
     "output_type": "execute_result"
    }
   ],
   "source": [
    "us.isna().sum()"
   ]
  },
  {
   "cell_type": "code",
   "execution_count": 10,
   "id": "1ab4c0f8-c4cd-4be6-9ddd-52d2dcc449c5",
   "metadata": {
    "tags": []
   },
   "outputs": [
    {
     "data": {
      "text/plain": [
       "223       NaN\n",
       "249       NaN\n",
       "446       NaN\n",
       "475       NaN\n",
       "669       NaN\n",
       "         ... \n",
       "231713    NaN\n",
       "231933    NaN\n",
       "231935    NaN\n",
       "232165    NaN\n",
       "232168    NaN\n",
       "Name: description, Length: 4418, dtype: object"
      ]
     },
     "execution_count": 10,
     "metadata": {},
     "output_type": "execute_result"
    }
   ],
   "source": [
    "us.loc[us.description.isna(), \"description\"]"
   ]
  },
  {
   "cell_type": "markdown",
   "id": "0af1c963-d17e-4c47-85dd-1fa7eec35326",
   "metadata": {},
   "source": [
    "### Checking category ids"
   ]
  },
  {
   "cell_type": "code",
   "execution_count": 11,
   "id": "9740fac2-358d-4326-8045-b9bb15846e21",
   "metadata": {
    "tags": []
   },
   "outputs": [],
   "source": [
    "us_cat[\"id\"] = us_cat.id.astype(\"int\")"
   ]
  },
  {
   "cell_type": "code",
   "execution_count": 12,
   "id": "32e5dc7b-898c-443c-aec3-b8aeb6e75428",
   "metadata": {
    "tags": []
   },
   "outputs": [
    {
     "data": {
      "text/plain": [
       "set()"
      ]
     },
     "execution_count": 12,
     "metadata": {},
     "output_type": "execute_result"
    }
   ],
   "source": [
    "# category ids in df but not in json\n",
    "set(us.categoryId.unique()) - set(us_cat.id)"
   ]
  },
  {
   "cell_type": "markdown",
   "id": "269431cb-6c8c-4b85-91f8-571d230f3b41",
   "metadata": {
    "tags": []
   },
   "source": [
    "### Checking numericals for outliers"
   ]
  },
  {
   "cell_type": "code",
   "execution_count": 13,
   "id": "3ef5a8f2-4dad-4941-a6f2-0c2caf2aa350",
   "metadata": {
    "tags": []
   },
   "outputs": [
    {
     "name": "stdout",
     "output_type": "stream",
     "text": [
      "0 277791741\n",
      "0 16021534\n",
      "0 879354\n",
      "0 6738537\n",
      "2020-08-03 21:51:14+00:00 2023-10-22 18:06:31+00:00\n",
      "2020-08-12 00:00:00+00:00 2023-10-23 00:00:00+00:00\n"
     ]
    }
   ],
   "source": [
    "print(us.view_count.min(), us.view_count.max())\n",
    "print(us.likes.min(), us.likes.max())\n",
    "print(us.dislikes.min(), us.dislikes.max())\n",
    "print(us.comment_count.min(), us.comment_count.max())\n",
    "print(us.publishedAt.min(), us.publishedAt.max())\n",
    "print(us.trending_date.min(), us.trending_date.max())"
   ]
  },
  {
   "cell_type": "code",
   "execution_count": 14,
   "id": "e9e40c1e-4907-429b-91aa-732cf922d31d",
   "metadata": {
    "tags": []
   },
   "outputs": [],
   "source": [
    "std_scaler_views = StandardScaler()\n",
    "std_scaler_likes = StandardScaler()\n",
    "std_scaler_dislikes = StandardScaler()\n",
    " \n",
    "us[\"view_count_scaled\"] = std_scaler_views.fit_transform(us.view_count.values.reshape(-1,1))\n",
    "us[\"likes_scaled\"] = std_scaler_views.fit_transform(us.likes.values.reshape(-1,1))\n",
    "us[\"dislikes_scaled\"] = std_scaler_views.fit_transform(us.dislikes.values.reshape(-1,1))"
   ]
  },
  {
   "cell_type": "code",
   "execution_count": 15,
   "id": "7e65b6c7-8a62-40e3-8475-1de2a1997c25",
   "metadata": {
    "tags": []
   },
   "outputs": [
    {
     "data": {
      "text/html": [
       "<div>\n",
       "<style scoped>\n",
       "    .dataframe tbody tr th:only-of-type {\n",
       "        vertical-align: middle;\n",
       "    }\n",
       "\n",
       "    .dataframe tbody tr th {\n",
       "        vertical-align: top;\n",
       "    }\n",
       "\n",
       "    .dataframe thead th {\n",
       "        text-align: right;\n",
       "    }\n",
       "</style>\n",
       "<table border=\"1\" class=\"dataframe\">\n",
       "  <thead>\n",
       "    <tr style=\"text-align: right;\">\n",
       "      <th></th>\n",
       "      <th>categoryId</th>\n",
       "      <th>view_count</th>\n",
       "      <th>likes</th>\n",
       "      <th>dislikes</th>\n",
       "      <th>comment_count</th>\n",
       "      <th>view_count_scaled</th>\n",
       "      <th>likes_scaled</th>\n",
       "      <th>dislikes_scaled</th>\n",
       "    </tr>\n",
       "  </thead>\n",
       "  <tbody>\n",
       "    <tr>\n",
       "      <th>count</th>\n",
       "      <td>233787.000000</td>\n",
       "      <td>2.337870e+05</td>\n",
       "      <td>2.337870e+05</td>\n",
       "      <td>233787.000000</td>\n",
       "      <td>2.337870e+05</td>\n",
       "      <td>2.337870e+05</td>\n",
       "      <td>2.337870e+05</td>\n",
       "      <td>2.337870e+05</td>\n",
       "    </tr>\n",
       "    <tr>\n",
       "      <th>mean</th>\n",
       "      <td>18.731307</td>\n",
       "      <td>2.604250e+06</td>\n",
       "      <td>1.297326e+05</td>\n",
       "      <td>1304.088957</td>\n",
       "      <td>1.047886e+04</td>\n",
       "      <td>-1.021196e-17</td>\n",
       "      <td>-3.403987e-18</td>\n",
       "      <td>3.793014e-17</td>\n",
       "    </tr>\n",
       "    <tr>\n",
       "      <th>std</th>\n",
       "      <td>6.777213</td>\n",
       "      <td>7.941519e+06</td>\n",
       "      <td>4.254601e+05</td>\n",
       "      <td>8615.826924</td>\n",
       "      <td>7.674631e+04</td>\n",
       "      <td>1.000002e+00</td>\n",
       "      <td>1.000002e+00</td>\n",
       "      <td>1.000002e+00</td>\n",
       "    </tr>\n",
       "    <tr>\n",
       "      <th>min</th>\n",
       "      <td>1.000000</td>\n",
       "      <td>0.000000e+00</td>\n",
       "      <td>0.000000e+00</td>\n",
       "      <td>0.000000</td>\n",
       "      <td>0.000000e+00</td>\n",
       "      <td>-3.279291e-01</td>\n",
       "      <td>-3.049237e-01</td>\n",
       "      <td>-1.513600e-01</td>\n",
       "    </tr>\n",
       "    <tr>\n",
       "      <th>25%</th>\n",
       "      <td>17.000000</td>\n",
       "      <td>4.752155e+05</td>\n",
       "      <td>1.812700e+04</td>\n",
       "      <td>0.000000</td>\n",
       "      <td>1.304000e+03</td>\n",
       "      <td>-2.680896e-01</td>\n",
       "      <td>-2.623180e-01</td>\n",
       "      <td>-1.513600e-01</td>\n",
       "    </tr>\n",
       "    <tr>\n",
       "      <th>50%</th>\n",
       "      <td>20.000000</td>\n",
       "      <td>9.484680e+05</td>\n",
       "      <td>4.113900e+04</td>\n",
       "      <td>0.000000</td>\n",
       "      <td>2.837000e+03</td>\n",
       "      <td>-2.084973e-01</td>\n",
       "      <td>-2.082305e-01</td>\n",
       "      <td>-1.513600e-01</td>\n",
       "    </tr>\n",
       "    <tr>\n",
       "      <th>75%</th>\n",
       "      <td>24.000000</td>\n",
       "      <td>2.129630e+06</td>\n",
       "      <td>1.014830e+05</td>\n",
       "      <td>629.000000</td>\n",
       "      <td>6.614500e+03</td>\n",
       "      <td>-5.976445e-02</td>\n",
       "      <td>-6.639789e-02</td>\n",
       "      <td>-7.835468e-02</td>\n",
       "    </tr>\n",
       "    <tr>\n",
       "      <th>max</th>\n",
       "      <td>29.000000</td>\n",
       "      <td>2.777917e+08</td>\n",
       "      <td>1.602153e+07</td>\n",
       "      <td>879354.000000</td>\n",
       "      <td>6.738537e+06</td>\n",
       "      <td>3.465182e+01</td>\n",
       "      <td>3.735211e+01</td>\n",
       "      <td>1.019115e+02</td>\n",
       "    </tr>\n",
       "  </tbody>\n",
       "</table>\n",
       "</div>"
      ],
      "text/plain": [
       "          categoryId    view_count         likes       dislikes  \\\n",
       "count  233787.000000  2.337870e+05  2.337870e+05  233787.000000   \n",
       "mean       18.731307  2.604250e+06  1.297326e+05    1304.088957   \n",
       "std         6.777213  7.941519e+06  4.254601e+05    8615.826924   \n",
       "min         1.000000  0.000000e+00  0.000000e+00       0.000000   \n",
       "25%        17.000000  4.752155e+05  1.812700e+04       0.000000   \n",
       "50%        20.000000  9.484680e+05  4.113900e+04       0.000000   \n",
       "75%        24.000000  2.129630e+06  1.014830e+05     629.000000   \n",
       "max        29.000000  2.777917e+08  1.602153e+07  879354.000000   \n",
       "\n",
       "       comment_count  view_count_scaled  likes_scaled  dislikes_scaled  \n",
       "count   2.337870e+05       2.337870e+05  2.337870e+05     2.337870e+05  \n",
       "mean    1.047886e+04      -1.021196e-17 -3.403987e-18     3.793014e-17  \n",
       "std     7.674631e+04       1.000002e+00  1.000002e+00     1.000002e+00  \n",
       "min     0.000000e+00      -3.279291e-01 -3.049237e-01    -1.513600e-01  \n",
       "25%     1.304000e+03      -2.680896e-01 -2.623180e-01    -1.513600e-01  \n",
       "50%     2.837000e+03      -2.084973e-01 -2.082305e-01    -1.513600e-01  \n",
       "75%     6.614500e+03      -5.976445e-02 -6.639789e-02    -7.835468e-02  \n",
       "max     6.738537e+06       3.465182e+01  3.735211e+01     1.019115e+02  "
      ]
     },
     "execution_count": 15,
     "metadata": {},
     "output_type": "execute_result"
    }
   ],
   "source": [
    "us.describe()"
   ]
  },
  {
   "cell_type": "markdown",
   "id": "67329570-23e8-4952-9164-0b5ee02f2c4c",
   "metadata": {
    "tags": []
   },
   "source": [
    "### Removing non-ASCII"
   ]
  },
  {
   "cell_type": "code",
   "execution_count": 16,
   "id": "690e0419-91c0-44c6-b4d9-6b8652e02deb",
   "metadata": {
    "tags": []
   },
   "outputs": [],
   "source": [
    "us.title.replace({r'[^\\x00-\\x7F]+':''}, regex=True, inplace=True)\n",
    "us.description.replace({r'[^\\x00-\\x7F]+':''}, regex=True, inplace=True)"
   ]
  },
  {
   "cell_type": "markdown",
   "id": "ef01ca96-b700-48e5-a495-041aa2fc3474",
   "metadata": {},
   "source": [
    "# Running Python Code"
   ]
  },
  {
   "cell_type": "code",
   "execution_count": 47,
   "id": "3b209632-9ccc-4d54-b423-7b489a29cdb5",
   "metadata": {
    "tags": []
   },
   "outputs": [],
   "source": [
    "import sys\n",
    "sys.path.insert(1, '../youtube_views_predictor')\n",
    "\n",
    "from data_cleaning import DataCleaner\n",
    "from tqdm import tqdm"
   ]
  },
  {
   "cell_type": "code",
   "execution_count": 48,
   "id": "b9f2bce0-3ec5-4e48-aa61-3f78c3877dce",
   "metadata": {
    "tags": []
   },
   "outputs": [
    {
     "name": "stderr",
     "output_type": "stream",
     "text": [
      "100%|██████████████████████████████████████████████████████████████████████████████████| 11/11 [03:45<00:00, 20.51s/it]\n"
     ]
    }
   ],
   "source": [
    "for country in tqdm([\"US\", \"BR\", \"CA\", \"DE\", \"FR\", \"GB\", \"IN\", \"JP\", \"KR\", \"MX\", \"RU\"]):\n",
    "    dc = DataCleaner(\"../data/\"+country+\"_youtube_trending_data.csv\",\n",
    "                     \"../data/\"+country+\"_category_id.json\")\n",
    "    dc.clean_transform()\n",
    "    dc.save_cleaned(\"../data/cleaned/\"+country+\"_youtube_trending_data_cleaned.csv\",\n",
    "                    \"../data/cleaned/\"+country+\"_category_id_cleaned.csv\")"
   ]
  },
  {
   "cell_type": "markdown",
   "id": "c34e2f8e-1c50-48c5-b00c-ebdbdec76c53",
   "metadata": {},
   "source": [
    "# Merging Countries"
   ]
  },
  {
   "cell_type": "code",
   "execution_count": 52,
   "id": "198ce14f-6a1b-4054-a32c-0c5c40de6506",
   "metadata": {
    "tags": []
   },
   "outputs": [],
   "source": [
    "def merge_countries(countries: list[str]):\n",
    "    merged_trending = pd.DataFrame()\n",
    "    merged_categ_jsons = pd.DataFrame()\n",
    "    for country in countries:\n",
    "        # Merge DataFrames\n",
    "        df_new = pd.read_csv(\"../data/cleaned/\"+country+\"_youtube_trending_data_cleaned.csv\", parse_dates=[\"publishedAt\", \"trending_date\"])\n",
    "        df_new[\"country\"] = country\n",
    "        merged_trending = pd.concat([merged_trending, df_new])\n",
    "        \n",
    "        # Merge JSONs\n",
    "        categ_json = pd.read_csv(\"../data/cleaned/\"+country+\"_category_id_cleaned.csv\")\n",
    "        merged_categ_jsons = pd.concat([merged_categ_jsons, categ_json]).drop_duplicates()\n",
    "    \n",
    "    return merged_trending, merged_categ_jsons\n",
    "        "
   ]
  },
  {
   "cell_type": "code",
   "execution_count": 53,
   "id": "434d2aa1-0689-4c0a-b466-940c48dc037c",
   "metadata": {
    "tags": []
   },
   "outputs": [],
   "source": [
    "merged_trending, merged_categ_jsons = merge_countries([\"US\", \"CA\", \"GB\"])\n",
    "\n",
    "merged_trending.to_csv(\"../data/cleaned/merged_trending.csv\", index=False)\n",
    "merged_categ_jsons.to_csv(\"../data/cleaned/merged_categ_jsons.csv\", index=False)"
   ]
  },
  {
   "cell_type": "code",
   "execution_count": 58,
   "id": "82e01640-3c0d-4004-8df8-c5c171addf70",
   "metadata": {
    "tags": []
   },
   "outputs": [],
   "source": [
    "merged_trending = pd.read_csv(\"../data/cleaned/merged_trending.csv\", parse_dates=[\"publishedAt\", \"trending_date\"])"
   ]
  },
  {
   "cell_type": "code",
   "execution_count": 60,
   "id": "88b07484-f161-43f6-83d3-302a8f6fe838",
   "metadata": {
    "tags": []
   },
   "outputs": [
    {
     "data": {
      "text/plain": [
       "US    233704\n",
       "GB    233667\n",
       "CA    233633\n",
       "Name: country, dtype: int64"
      ]
     },
     "execution_count": 60,
     "metadata": {},
     "output_type": "execute_result"
    }
   ],
   "source": [
    "merged_trending.country.value_counts()"
   ]
  },
  {
   "cell_type": "markdown",
   "id": "b3b64728-de60-4988-b978-af74406821ad",
   "metadata": {},
   "source": [
    "# Finding channels with fewer trending videos\n",
    "Was formerly one-hit wonders, but that seems too limited."
   ]
  },
  {
   "cell_type": "code",
   "execution_count": 93,
   "id": "a6d2cccc-f2a9-4828-9469-2bf664529801",
   "metadata": {
    "tags": []
   },
   "outputs": [],
   "source": [
    "def find_channels_with_fewer_hits(merged_trending: pd.DataFrame, n: int):\n",
    "    \n",
    "    total_trending_vids_per_channel = merged_trending.groupby(by=[\"channelTitle\"]).size()\n",
    "    selected_channels = set(total_trending_vids_per_channel[total_trending_vids_per_channel <= n].index)\n",
    "    merged_trending[\"channel_less_than_\"+str(n)+\"_hits\"] = (merged_trending[\"channelTitle\"].isin(selected_channels))\n",
    "    \n",
    "    return merged_trending"
   ]
  },
  {
   "cell_type": "code",
   "execution_count": 97,
   "id": "f128b4d4-badc-4069-9504-a6a0dc94775e",
   "metadata": {
    "tags": []
   },
   "outputs": [
    {
     "data": {
      "text/plain": [
       "False    700954\n",
       "True         50\n",
       "Name: channel_less_than_1_hits, dtype: int64"
      ]
     },
     "execution_count": 97,
     "metadata": {},
     "output_type": "execute_result"
    }
   ],
   "source": [
    "n=1\n",
    "merged_trending = find_channels_with_fewer_hits(merged_trending, n)[\"channel_less_than_\"+str(n)+\"_hits\"]\n",
    "merged_trending.value_counts()"
   ]
  },
  {
   "cell_type": "code",
   "execution_count": 98,
   "id": "ab6b9aca-ac6a-475d-8cfd-6925cc13b9e4",
   "metadata": {
    "tags": []
   },
   "outputs": [],
   "source": [
    "merged_trending.to_csv(\"../data/cleaned/merged_trending.csv\", index=False)"
   ]
  },
  {
   "cell_type": "code",
   "execution_count": null,
   "id": "3b4ee4a9-2cfe-49af-9328-f7a25f0925c2",
   "metadata": {},
   "outputs": [],
   "source": []
  }
 ],
 "metadata": {
  "kernelspec": {
   "display_name": "Python 3 (ipykernel)",
   "language": "python",
   "name": "python3"
  },
  "language_info": {
   "codemirror_mode": {
    "name": "ipython",
    "version": 3
   },
   "file_extension": ".py",
   "mimetype": "text/x-python",
   "name": "python",
   "nbconvert_exporter": "python",
   "pygments_lexer": "ipython3",
   "version": "3.11.4"
  }
 },
 "nbformat": 4,
 "nbformat_minor": 5
}
