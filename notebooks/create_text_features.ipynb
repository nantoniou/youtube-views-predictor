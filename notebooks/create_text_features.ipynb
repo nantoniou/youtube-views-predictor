{
 "cells": [
  {
   "cell_type": "code",
   "execution_count": 39,
   "id": "d206a87a-5d96-4570-9aed-d7f3b114f07e",
   "metadata": {},
   "outputs": [],
   "source": [
    "import pandas as pd\n",
    "from langdetect import detect\n",
    "from textblob import TextBlob\n",
    "import string\n",
    "import nltk\n",
    "from nltk.corpus import stopwords"
   ]
  },
  {
   "cell_type": "code",
   "execution_count": 2,
   "id": "affe8ff1-f692-4caf-a7ef-584dfea29507",
   "metadata": {},
   "outputs": [],
   "source": [
    "df = pd.read_csv(\"../data/GB_youtube_trending_data_cleaned.csv\", parse_dates = [\"publishedAt\", \"trending_date\"])"
   ]
  },
  {
   "cell_type": "code",
   "execution_count": 80,
   "id": "d3221f15-89a6-48b6-936a-146abb43391c",
   "metadata": {},
   "outputs": [
    {
     "data": {
      "text/html": [
       "<div>\n",
       "<style scoped>\n",
       "    .dataframe tbody tr th:only-of-type {\n",
       "        vertical-align: middle;\n",
       "    }\n",
       "\n",
       "    .dataframe tbody tr th {\n",
       "        vertical-align: top;\n",
       "    }\n",
       "\n",
       "    .dataframe thead th {\n",
       "        text-align: right;\n",
       "    }\n",
       "</style>\n",
       "<table border=\"1\" class=\"dataframe\">\n",
       "  <thead>\n",
       "    <tr style=\"text-align: right;\">\n",
       "      <th></th>\n",
       "      <th>video_id</th>\n",
       "      <th>title</th>\n",
       "      <th>publishedAt</th>\n",
       "      <th>channelId</th>\n",
       "      <th>channelTitle</th>\n",
       "      <th>categoryId</th>\n",
       "      <th>trending_date</th>\n",
       "      <th>tags</th>\n",
       "      <th>view_count</th>\n",
       "      <th>likes</th>\n",
       "      <th>...</th>\n",
       "      <th>Teaser</th>\n",
       "      <th>Official</th>\n",
       "      <th>Trailer</th>\n",
       "      <th>Music</th>\n",
       "      <th>Prix</th>\n",
       "      <th>Grand</th>\n",
       "      <th>Love</th>\n",
       "      <th>Video</th>\n",
       "      <th>iPhone</th>\n",
       "      <th>100</th>\n",
       "    </tr>\n",
       "  </thead>\n",
       "  <tbody>\n",
       "    <tr>\n",
       "      <th>0</th>\n",
       "      <td>J78aPJ3VyNs</td>\n",
       "      <td>I left youtube for a month and THIS is what ha...</td>\n",
       "      <td>2020-08-11 16:34:06+00:00</td>\n",
       "      <td>UCYzPXprvl5Y-Sf0g4vX-m6g</td>\n",
       "      <td>jacksepticeye</td>\n",
       "      <td>24</td>\n",
       "      <td>2020-08-12 00:00:00+00:00</td>\n",
       "      <td>['jacksepticeye', 'funny', 'funny meme', 'meme...</td>\n",
       "      <td>2038853</td>\n",
       "      <td>353790</td>\n",
       "      <td>...</td>\n",
       "      <td>0</td>\n",
       "      <td>0</td>\n",
       "      <td>0</td>\n",
       "      <td>0</td>\n",
       "      <td>0</td>\n",
       "      <td>0</td>\n",
       "      <td>0</td>\n",
       "      <td>0</td>\n",
       "      <td>0</td>\n",
       "      <td>0</td>\n",
       "    </tr>\n",
       "    <tr>\n",
       "      <th>1</th>\n",
       "      <td>9nidKH8cM38</td>\n",
       "      <td>TAXI CAB SLAYER KILLS 'TO KNOW HOW IT FEELS'</td>\n",
       "      <td>2020-08-11 20:00:45+00:00</td>\n",
       "      <td>UCFMbX7frWZfuWdjAML0babA</td>\n",
       "      <td>Eleanor Neale</td>\n",
       "      <td>27</td>\n",
       "      <td>2020-08-12 00:00:00+00:00</td>\n",
       "      <td>['eleanor', 'neale', 'eleanor neale', 'eleanor...</td>\n",
       "      <td>236830</td>\n",
       "      <td>16423</td>\n",
       "      <td>...</td>\n",
       "      <td>0</td>\n",
       "      <td>0</td>\n",
       "      <td>0</td>\n",
       "      <td>0</td>\n",
       "      <td>0</td>\n",
       "      <td>0</td>\n",
       "      <td>0</td>\n",
       "      <td>0</td>\n",
       "      <td>0</td>\n",
       "      <td>0</td>\n",
       "    </tr>\n",
       "    <tr>\n",
       "      <th>2</th>\n",
       "      <td>M9Pmf9AB4Mo</td>\n",
       "      <td>Apex Legends | Stories from the Outlands  The ...</td>\n",
       "      <td>2020-08-11 17:00:10+00:00</td>\n",
       "      <td>UC0ZV6M2THA81QT9hrVWJG3A</td>\n",
       "      <td>Apex Legends</td>\n",
       "      <td>20</td>\n",
       "      <td>2020-08-12 00:00:00+00:00</td>\n",
       "      <td>['Apex Legends', 'Apex Legends characters', 'n...</td>\n",
       "      <td>2381688</td>\n",
       "      <td>146739</td>\n",
       "      <td>...</td>\n",
       "      <td>0</td>\n",
       "      <td>0</td>\n",
       "      <td>0</td>\n",
       "      <td>0</td>\n",
       "      <td>0</td>\n",
       "      <td>0</td>\n",
       "      <td>0</td>\n",
       "      <td>0</td>\n",
       "      <td>0</td>\n",
       "      <td>0</td>\n",
       "    </tr>\n",
       "    <tr>\n",
       "      <th>3</th>\n",
       "      <td>kgUV1MaD_M8</td>\n",
       "      <td>Nines - Clout (Official Video)</td>\n",
       "      <td>2020-08-10 18:30:28+00:00</td>\n",
       "      <td>UCvDkzrj8ZPlBqRd6fIxdhTw</td>\n",
       "      <td>Nines</td>\n",
       "      <td>24</td>\n",
       "      <td>2020-08-12 00:00:00+00:00</td>\n",
       "      <td>['Nines', 'Trapper of the year', 'Crop Circle'...</td>\n",
       "      <td>613785</td>\n",
       "      <td>37567</td>\n",
       "      <td>...</td>\n",
       "      <td>0</td>\n",
       "      <td>1</td>\n",
       "      <td>0</td>\n",
       "      <td>0</td>\n",
       "      <td>0</td>\n",
       "      <td>0</td>\n",
       "      <td>0</td>\n",
       "      <td>1</td>\n",
       "      <td>0</td>\n",
       "      <td>0</td>\n",
       "    </tr>\n",
       "    <tr>\n",
       "      <th>4</th>\n",
       "      <td>49Z6Mv4_WCA</td>\n",
       "      <td>i don't know what im doing anymore</td>\n",
       "      <td>2020-08-11 20:24:34+00:00</td>\n",
       "      <td>UCtinbF-Q-fVthA0qrFQTgXQ</td>\n",
       "      <td>CaseyNeistat</td>\n",
       "      <td>22</td>\n",
       "      <td>2020-08-12 00:00:00+00:00</td>\n",
       "      <td>NaN</td>\n",
       "      <td>940036</td>\n",
       "      <td>87113</td>\n",
       "      <td>...</td>\n",
       "      <td>0</td>\n",
       "      <td>0</td>\n",
       "      <td>0</td>\n",
       "      <td>0</td>\n",
       "      <td>0</td>\n",
       "      <td>0</td>\n",
       "      <td>0</td>\n",
       "      <td>0</td>\n",
       "      <td>0</td>\n",
       "      <td>0</td>\n",
       "    </tr>\n",
       "  </tbody>\n",
       "</table>\n",
       "<p>5 rows × 49 columns</p>\n",
       "</div>"
      ],
      "text/plain": [
       "      video_id                                              title  \\\n",
       "0  J78aPJ3VyNs  I left youtube for a month and THIS is what ha...   \n",
       "1  9nidKH8cM38       TAXI CAB SLAYER KILLS 'TO KNOW HOW IT FEELS'   \n",
       "2  M9Pmf9AB4Mo  Apex Legends | Stories from the Outlands  The ...   \n",
       "3  kgUV1MaD_M8                     Nines - Clout (Official Video)   \n",
       "4  49Z6Mv4_WCA                 i don't know what im doing anymore   \n",
       "\n",
       "                publishedAt                 channelId   channelTitle  \\\n",
       "0 2020-08-11 16:34:06+00:00  UCYzPXprvl5Y-Sf0g4vX-m6g  jacksepticeye   \n",
       "1 2020-08-11 20:00:45+00:00  UCFMbX7frWZfuWdjAML0babA  Eleanor Neale   \n",
       "2 2020-08-11 17:00:10+00:00  UC0ZV6M2THA81QT9hrVWJG3A   Apex Legends   \n",
       "3 2020-08-10 18:30:28+00:00  UCvDkzrj8ZPlBqRd6fIxdhTw          Nines   \n",
       "4 2020-08-11 20:24:34+00:00  UCtinbF-Q-fVthA0qrFQTgXQ   CaseyNeistat   \n",
       "\n",
       "   categoryId             trending_date  \\\n",
       "0          24 2020-08-12 00:00:00+00:00   \n",
       "1          27 2020-08-12 00:00:00+00:00   \n",
       "2          20 2020-08-12 00:00:00+00:00   \n",
       "3          24 2020-08-12 00:00:00+00:00   \n",
       "4          22 2020-08-12 00:00:00+00:00   \n",
       "\n",
       "                                                tags  view_count   likes  ...  \\\n",
       "0  ['jacksepticeye', 'funny', 'funny meme', 'meme...     2038853  353790  ...   \n",
       "1  ['eleanor', 'neale', 'eleanor neale', 'eleanor...      236830   16423  ...   \n",
       "2  ['Apex Legends', 'Apex Legends characters', 'n...     2381688  146739  ...   \n",
       "3  ['Nines', 'Trapper of the year', 'Crop Circle'...      613785   37567  ...   \n",
       "4                                                NaN      940036   87113  ...   \n",
       "\n",
       "   Teaser  Official Trailer  Music  Prix Grand  Love  Video  iPhone  100  \n",
       "0       0         0       0      0     0     0     0      0       0    0  \n",
       "1       0         0       0      0     0     0     0      0       0    0  \n",
       "2       0         0       0      0     0     0     0      0       0    0  \n",
       "3       0         1       0      0     0     0     0      1       0    0  \n",
       "4       0         0       0      0     0     0     0      0       0    0  \n",
       "\n",
       "[5 rows x 49 columns]"
      ]
     },
     "execution_count": 80,
     "metadata": {},
     "output_type": "execute_result"
    }
   ],
   "source": [
    "df.head()"
   ]
  },
  {
   "cell_type": "markdown",
   "id": "7960b922-d22c-4669-b114-3af7449b4467",
   "metadata": {},
   "source": [
    "# Title Length"
   ]
  },
  {
   "cell_type": "markdown",
   "id": "49fc3261-16df-4e7c-a860-81baa5bcfb2e",
   "metadata": {},
   "source": [
    "### Number of Characters"
   ]
  },
  {
   "cell_type": "code",
   "execution_count": 6,
   "id": "d55027be-770a-4c25-9d7f-b4f5ec3d14e7",
   "metadata": {},
   "outputs": [],
   "source": [
    "def get_title_length_chars(title):\n",
    "    if pd.notna(title):\n",
    "        return len(title)\n",
    "    else:\n",
    "        return 0\n",
    "\n",
    "df['title_length_chars'] = df['title'].apply(get_title_length_chars)"
   ]
  },
  {
   "cell_type": "markdown",
   "id": "d2a4b8a1-598f-494b-9bd8-612e806f1237",
   "metadata": {},
   "source": [
    "### Number of Words"
   ]
  },
  {
   "cell_type": "code",
   "execution_count": 7,
   "id": "f0c513d7-21ff-4b47-861d-a42b5769297c",
   "metadata": {},
   "outputs": [],
   "source": [
    "def get_title_length_words(title):\n",
    "    if pd.notna(title):\n",
    "        return len(title.split())\n",
    "    else:\n",
    "        return 0\n",
    "\n",
    "df['title_length_words'] = df['title'].apply(get_title_length_words)"
   ]
  },
  {
   "cell_type": "markdown",
   "id": "05f4904e-baaa-4f45-be7c-131c35f16972",
   "metadata": {},
   "source": [
    "### Average Word Length"
   ]
  },
  {
   "cell_type": "code",
   "execution_count": 27,
   "id": "8183d503-b472-4f5f-9524-7604a307c67e",
   "metadata": {},
   "outputs": [],
   "source": [
    "def average_word_length(title):\n",
    "    if pd.notna(title):\n",
    "        words = title.split()\n",
    "        if words:\n",
    "            total_length = sum(len(word) for word in words)\n",
    "            return total_length / len(words)\n",
    "    return 0\n",
    "\n",
    "df['title_avg_word_length'] = df['title'].apply(average_word_length)"
   ]
  },
  {
   "cell_type": "markdown",
   "id": "93e70c98-49e4-4c8e-960c-f69f1b01863d",
   "metadata": {},
   "source": [
    "### Longest Word Length"
   ]
  },
  {
   "cell_type": "code",
   "execution_count": 29,
   "id": "99d48978-2f8c-442d-af2d-f238bd271adf",
   "metadata": {},
   "outputs": [],
   "source": [
    "def longest_word_length(title):\n",
    "    if pd.notna(title):\n",
    "        words = title.split()\n",
    "        if words:\n",
    "            return max(len(word) for word in words)\n",
    "    return 0\n",
    "\n",
    "df['title_longest_word_length'] = df['title'].apply(longest_word_length)"
   ]
  },
  {
   "cell_type": "markdown",
   "id": "536f3367-738f-4fad-bee2-50c0a5f86e71",
   "metadata": {},
   "source": [
    "# Case"
   ]
  },
  {
   "cell_type": "markdown",
   "id": "4b5e6ae4-dd0d-4737-80fa-f9fb83fdac29",
   "metadata": {},
   "source": [
    "### All Words Uppercase"
   ]
  },
  {
   "cell_type": "code",
   "execution_count": 8,
   "id": "e24d7f1f-25f1-44f2-94fe-2f076b07307e",
   "metadata": {},
   "outputs": [],
   "source": [
    "def all_words_are_uppercase(text):\n",
    "    if pd.isna(text):\n",
    "        return False\n",
    "    words = text.split()\n",
    "    return all(word.isupper() for word in words)  \n",
    "\n",
    "df['title_all_upcase'] = df['title'].apply(all_words_are_uppercase).astype(int)"
   ]
  },
  {
   "cell_type": "markdown",
   "id": "e66e7896-ac90-4231-940d-02c13acb9d50",
   "metadata": {},
   "source": [
    "### First Word Uppercase"
   ]
  },
  {
   "cell_type": "code",
   "execution_count": 15,
   "id": "6d07fbdf-e04c-48a4-b654-06549dba80e6",
   "metadata": {},
   "outputs": [],
   "source": [
    "def first_word_is_uppercase(text):\n",
    "    if pd.notna(text):\n",
    "        words = text.split()\n",
    "        if words:\n",
    "            first_word = words[0]\n",
    "            return first_word.isupper()\n",
    "    return False\n",
    "\n",
    "df['title_first_upcase'] = df['title'].apply(first_word_is_uppercase).astype(int)"
   ]
  },
  {
   "cell_type": "markdown",
   "id": "8f62363a-1991-4b5c-93e6-fe029d9bfcf2",
   "metadata": {},
   "source": [
    "### Any Word Uppercase"
   ]
  },
  {
   "cell_type": "code",
   "execution_count": null,
   "id": "99ce8f40-d2c9-4e06-9a43-266973b3118f",
   "metadata": {},
   "outputs": [],
   "source": [
    "def any_word_is_uppercase(title):\n",
    "    if pd.notna(title):\n",
    "        words = title.split()\n",
    "        return any(word.isupper() for word in words)\n",
    "    return False\n",
    "\n",
    "df['title_any_upcase'] = df['title'].apply(any_word_is_uppercase).astype(int)"
   ]
  },
  {
   "cell_type": "markdown",
   "id": "b7945ea7-b4b9-420c-88c9-038951b554c7",
   "metadata": {},
   "source": [
    "### Proportion Words Uppercase"
   ]
  },
  {
   "cell_type": "code",
   "execution_count": 32,
   "id": "85c030a2-2572-4571-b3f9-168c84ae36d3",
   "metadata": {},
   "outputs": [],
   "source": [
    "def proportion_words_uppercase(title):\n",
    "    if pd.notna(title):\n",
    "        words = title.split()\n",
    "        if words:\n",
    "            uppercase_words = [word for word in words if word.isupper()]\n",
    "            return len(uppercase_words) / len(words)\n",
    "    return 0.0\n",
    "\n",
    "df['title_prop_upcase'] = df['title'].apply(proportion_words_uppercase)"
   ]
  },
  {
   "cell_type": "markdown",
   "id": "80e018af-1bff-4302-a184-9b1046122ea1",
   "metadata": {},
   "source": [
    "### All Words Lowercase"
   ]
  },
  {
   "cell_type": "code",
   "execution_count": 17,
   "id": "8241464c-b969-4f2f-934b-faaa66b2742d",
   "metadata": {},
   "outputs": [],
   "source": [
    "def all_words_are_lowercase(text):\n",
    "    if pd.isna(text):\n",
    "        return False\n",
    "    words = text.split()\n",
    "    return all(word.islower() for word in words)  \n",
    "\n",
    "df['title_all_lowercase'] = df['title'].apply(all_words_are_lowercase).astype(int)"
   ]
  },
  {
   "cell_type": "markdown",
   "id": "8b3c3f5f-97b8-472c-84ec-e15a469d4307",
   "metadata": {},
   "source": [
    "# Sentiment"
   ]
  },
  {
   "cell_type": "code",
   "execution_count": 20,
   "id": "3f7f87fb-c594-4553-8e6e-96f01544eeba",
   "metadata": {},
   "outputs": [],
   "source": [
    "def identify_sentiment(text):\n",
    "    if pd.isna(text):\n",
    "        return -9    \n",
    "    analysis = TextBlob(text)\n",
    "    if analysis.sentiment.polarity > 0:\n",
    "        return 1\n",
    "    elif analysis.sentiment.polarity < 0:\n",
    "        return 0\n",
    "    else:\n",
    "        return -1\n",
    "\n",
    "df['title_sentiment'] = df['title'].apply(identify_sentiment)"
   ]
  },
  {
   "cell_type": "markdown",
   "id": "e38d35a5-df2d-4729-8231-59daba74e955",
   "metadata": {},
   "source": [
    "# Keywords"
   ]
  },
  {
   "cell_type": "code",
   "execution_count": 70,
   "id": "d0e99005-6249-4899-8cc3-b7b2509996ae",
   "metadata": {},
   "outputs": [],
   "source": [
    "def remove_punctuation_within_word(word):\n",
    "    return ''.join(char for char in word if char not in string.punctuation)\n",
    "\n",
    "word_counts = df['title'].str.split(expand=True).stack().apply(remove_punctuation_within_word).value_counts()\n",
    "frequent_words = word_counts[word_counts >= 1000].index\n",
    "stop_words = set(stopwords.words('english'))\n",
    "punctuation = set(string.punctuation)\n",
    "frequent_words = [word for word in frequent_words if word.lower() not in stop_words and word not in punctuation]"
   ]
  },
  {
   "cell_type": "code",
   "execution_count": 71,
   "id": "51d48470-de72-47d4-b7dc-1dc725209380",
   "metadata": {},
   "outputs": [
    {
     "name": "stdout",
     "output_type": "stream",
     "text": [
      "           Word  Average_Views\n",
      "0                 2.168352e+06\n",
      "1      Official   4.105751e+06\n",
      "2         Video   3.472904e+06\n",
      "3            vs   2.030661e+06\n",
      "4    Highlights   1.427102e+06\n",
      "..          ...            ...\n",
      "141        Tour   1.284690e+06\n",
      "142        FULL   1.866224e+06\n",
      "143    OFFICIAL   4.105751e+06\n",
      "144        Fury   7.908330e+05\n",
      "145        Back   1.351698e+06\n",
      "\n",
      "[146 rows x 2 columns]\n"
     ]
    }
   ],
   "source": [
    "result_df = pd.DataFrame(columns = frequent_words)\n",
    "\n",
    "for word in frequent_words:\n",
    "    df['title'].fillna('', inplace=True) \n",
    "    word_mask = df['title'].str.lower().str.contains(word.lower())\n",
    "    avg_views = df.loc[word_mask, 'view_count'].mean()\n",
    "    if not result_df.empty:\n",
    "        result_df = pd.concat([result_df, pd.DataFrame({'Word': [word], 'Average_Views': [avg_views]})], ignore_index=True)\n",
    "    else:\n",
    "        result_df = pd.DataFrame({'Word': [word], 'Average_Views': [avg_views]})"
   ]
  },
  {
   "cell_type": "code",
   "execution_count": 78,
   "id": "48617479-b447-49dc-be8e-278ffa338eaf",
   "metadata": {},
   "outputs": [
    {
     "data": {
      "text/html": [
       "<div>\n",
       "<style scoped>\n",
       "    .dataframe tbody tr th:only-of-type {\n",
       "        vertical-align: middle;\n",
       "    }\n",
       "\n",
       "    .dataframe tbody tr th {\n",
       "        vertical-align: top;\n",
       "    }\n",
       "\n",
       "    .dataframe thead th {\n",
       "        text-align: right;\n",
       "    }\n",
       "</style>\n",
       "<table border=\"1\" class=\"dataframe\">\n",
       "  <thead>\n",
       "    <tr style=\"text-align: right;\">\n",
       "      <th></th>\n",
       "      <th>Word</th>\n",
       "      <th>Average_Views</th>\n",
       "    </tr>\n",
       "  </thead>\n",
       "  <tbody>\n",
       "    <tr>\n",
       "      <th>36</th>\n",
       "      <td>MV</td>\n",
       "      <td>1.528876e+07</td>\n",
       "    </tr>\n",
       "    <tr>\n",
       "      <th>108</th>\n",
       "      <td>BTS</td>\n",
       "      <td>1.244617e+07</td>\n",
       "    </tr>\n",
       "    <tr>\n",
       "      <th>91</th>\n",
       "      <td>Shorts</td>\n",
       "      <td>8.218931e+06</td>\n",
       "    </tr>\n",
       "    <tr>\n",
       "      <th>19</th>\n",
       "      <td>shorts</td>\n",
       "      <td>8.218931e+06</td>\n",
       "    </tr>\n",
       "    <tr>\n",
       "      <th>42</th>\n",
       "      <td>Teaser</td>\n",
       "      <td>5.180543e+06</td>\n",
       "    </tr>\n",
       "    <tr>\n",
       "      <th>1</th>\n",
       "      <td>Official</td>\n",
       "      <td>4.105751e+06</td>\n",
       "    </tr>\n",
       "    <tr>\n",
       "      <th>143</th>\n",
       "      <td>OFFICIAL</td>\n",
       "      <td>4.105751e+06</td>\n",
       "    </tr>\n",
       "    <tr>\n",
       "      <th>5</th>\n",
       "      <td>Trailer</td>\n",
       "      <td>3.834790e+06</td>\n",
       "    </tr>\n",
       "    <tr>\n",
       "      <th>8</th>\n",
       "      <td>Music</td>\n",
       "      <td>3.604624e+06</td>\n",
       "    </tr>\n",
       "    <tr>\n",
       "      <th>113</th>\n",
       "      <td>Prix</td>\n",
       "      <td>3.555647e+06</td>\n",
       "    </tr>\n",
       "    <tr>\n",
       "      <th>72</th>\n",
       "      <td>Grand</td>\n",
       "      <td>3.506199e+06</td>\n",
       "    </tr>\n",
       "    <tr>\n",
       "      <th>2</th>\n",
       "      <td>Video</td>\n",
       "      <td>3.472904e+06</td>\n",
       "    </tr>\n",
       "    <tr>\n",
       "      <th>76</th>\n",
       "      <td>Love</td>\n",
       "      <td>3.369135e+06</td>\n",
       "    </tr>\n",
       "    <tr>\n",
       "      <th>35</th>\n",
       "      <td>SIDEMEN</td>\n",
       "      <td>3.077838e+06</td>\n",
       "    </tr>\n",
       "    <tr>\n",
       "      <th>28</th>\n",
       "      <td>100</td>\n",
       "      <td>3.058399e+06</td>\n",
       "    </tr>\n",
       "    <tr>\n",
       "      <th>125</th>\n",
       "      <td>iPhone</td>\n",
       "      <td>2.950554e+06</td>\n",
       "    </tr>\n",
       "    <tr>\n",
       "      <th>58</th>\n",
       "      <td>Lil</td>\n",
       "      <td>2.878903e+06</td>\n",
       "    </tr>\n",
       "    <tr>\n",
       "      <th>44</th>\n",
       "      <td>feat</td>\n",
       "      <td>2.842683e+06</td>\n",
       "    </tr>\n",
       "    <tr>\n",
       "      <th>66</th>\n",
       "      <td>Worlds</td>\n",
       "      <td>2.808715e+06</td>\n",
       "    </tr>\n",
       "    <tr>\n",
       "      <th>83</th>\n",
       "      <td>Survived</td>\n",
       "      <td>2.678237e+06</td>\n",
       "    </tr>\n",
       "  </tbody>\n",
       "</table>\n",
       "</div>"
      ],
      "text/plain": [
       "         Word  Average_Views\n",
       "36         MV   1.528876e+07\n",
       "108       BTS   1.244617e+07\n",
       "91     Shorts   8.218931e+06\n",
       "19     shorts   8.218931e+06\n",
       "42     Teaser   5.180543e+06\n",
       "1    Official   4.105751e+06\n",
       "143  OFFICIAL   4.105751e+06\n",
       "5     Trailer   3.834790e+06\n",
       "8       Music   3.604624e+06\n",
       "113      Prix   3.555647e+06\n",
       "72      Grand   3.506199e+06\n",
       "2       Video   3.472904e+06\n",
       "76       Love   3.369135e+06\n",
       "35    SIDEMEN   3.077838e+06\n",
       "28        100   3.058399e+06\n",
       "125    iPhone   2.950554e+06\n",
       "58        Lil   2.878903e+06\n",
       "44       feat   2.842683e+06\n",
       "66     Worlds   2.808715e+06\n",
       "83   Survived   2.678237e+06"
      ]
     },
     "execution_count": 78,
     "metadata": {},
     "output_type": "execute_result"
    }
   ],
   "source": [
    "result_df = result_df.sort_values(by='Average_Views', ascending = False)\n",
    "result_df.head(20)"
   ]
  },
  {
   "cell_type": "code",
   "execution_count": 79,
   "id": "b44de15f-9e7a-41f2-a908-db72fc1e4144",
   "metadata": {},
   "outputs": [],
   "source": [
    "keywords = ['How', 'MV', 'BTS', 'Shorts', 'Teaser', 'Official', 'Trailer', 'Music', 'Prix', 'Grand', 'Love', 'Video', 'iPhone', '100']\n",
    "\n",
    "def create_keyword_flags(df, keywords):\n",
    "    for keyword in keywords:\n",
    "        df[keyword] = df['title'].fillna('').str.contains(keyword, case = False).astype(int)\n",
    "    return df\n",
    "\n",
    "df = create_keyword_flags(df, keywords)"
   ]
  },
  {
   "cell_type": "markdown",
   "id": "0d9d2b38-9e76-47a5-a2c6-1d9276c16b1d",
   "metadata": {},
   "source": [
    "# Language"
   ]
  },
  {
   "cell_type": "code",
   "execution_count": null,
   "id": "2b74018c-501a-4c1d-ae0d-9ca0ea9b4f69",
   "metadata": {},
   "outputs": [],
   "source": [
    "def identify_language(title):\n",
    "    try:\n",
    "        return detect(title)\n",
    "    except:\n",
    "        return 'Unknown'\n",
    "\n",
    "#df['title_language'] = df['title'].apply(identify_language)"
   ]
  },
  {
   "cell_type": "markdown",
   "id": "01e3fc11-57ae-4396-8fdb-100ef9224f06",
   "metadata": {},
   "source": [
    "# Numbers"
   ]
  },
  {
   "cell_type": "markdown",
   "id": "e748b0c7-ff7e-4968-bb4e-a7e2c19f33c7",
   "metadata": {},
   "source": [
    "### Contains Digit"
   ]
  },
  {
   "cell_type": "code",
   "execution_count": 24,
   "id": "afacdd0f-f276-4cde-be73-fe20f21f1fa1",
   "metadata": {},
   "outputs": [],
   "source": [
    "def contains_digit(text):\n",
    "    if text is not None and not pd.isna(text):\n",
    "        for char in text:\n",
    "            if char.isdigit():\n",
    "                return True\n",
    "    return False\n",
    "\n",
    "df['title_contains_digit'] = df['title'].apply(contains_digit).astype(int)"
   ]
  },
  {
   "cell_type": "markdown",
   "id": "f6e2fbdf-ef54-45b5-afc4-0f06fbe5ec7d",
   "metadata": {},
   "source": [
    "### Starts with Digit"
   ]
  },
  {
   "cell_type": "code",
   "execution_count": 25,
   "id": "1fd2a810-de6c-4a94-96ec-4376d5550370",
   "metadata": {},
   "outputs": [],
   "source": [
    "def starts_with_digit(text):\n",
    "    if text is not None and not pd.isna(text):\n",
    "        return text[0].isdigit()\n",
    "    return False\n",
    "\n",
    "df['title_starts_digit'] = df['title'].apply(starts_with_digit).astype(int)"
   ]
  },
  {
   "cell_type": "markdown",
   "id": "c1c3ae8d-b12e-4ba2-a651-7ba4a30bade3",
   "metadata": {},
   "source": [
    "# Punctuation"
   ]
  },
  {
   "cell_type": "markdown",
   "id": "29d3335d-3d28-4fab-b2c2-d5199db75b14",
   "metadata": {},
   "source": [
    "### Is Title Question?"
   ]
  },
  {
   "cell_type": "code",
   "execution_count": 20,
   "id": "b54b1611-7d06-4105-8e36-b1bdf297e45b",
   "metadata": {},
   "outputs": [],
   "source": [
    "def identify_question_in_title(title):\n",
    "    if pd.notna(title):\n",
    "        return '?' in title\n",
    "    return False\n",
    "\n",
    "df['title_contains_question'] = df['title'].apply(identify_question_in_title).astype(int)"
   ]
  },
  {
   "cell_type": "markdown",
   "id": "50ea2235-4ce7-4a95-a07c-563f349cf2a5",
   "metadata": {},
   "source": [
    "### Count Exclamations"
   ]
  },
  {
   "cell_type": "code",
   "execution_count": 34,
   "id": "589c296f-faf3-42e1-a573-a6b6487335bf",
   "metadata": {},
   "outputs": [],
   "source": [
    "def count_exclamation_marks(title):\n",
    "    if pd.notna(title):\n",
    "        return title.count('!')\n",
    "    return 0\n",
    "\n",
    "df['title_exclamation_count'] = df['title'].apply(count_exclamation_marks)"
   ]
  },
  {
   "cell_type": "markdown",
   "id": "e2e0f8c3-86fa-44c2-849f-5e71abc8454d",
   "metadata": {},
   "source": [
    "### Number of Punctuations"
   ]
  },
  {
   "cell_type": "code",
   "execution_count": 37,
   "id": "6c6a7def-cf5f-4469-b549-bc47b3371611",
   "metadata": {},
   "outputs": [],
   "source": [
    "def count_punctuation_marks(title):\n",
    "    if pd.notna(title):\n",
    "        return sum(title.count(punctuation) for punctuation in string.punctuation)\n",
    "    return 0\n",
    "\n",
    "df['title_punctuation_count'] = df['title'].apply(count_punctuation_marks)"
   ]
  },
  {
   "cell_type": "markdown",
   "id": "bf51d985-8a14-439d-893b-9300c6cf658a",
   "metadata": {},
   "source": [
    "# Stop Words"
   ]
  },
  {
   "cell_type": "markdown",
   "id": "7a17d4a1-172e-4b5f-86f1-5b8d79b09e40",
   "metadata": {},
   "source": [
    "### Number Stop Words"
   ]
  },
  {
   "cell_type": "code",
   "execution_count": 40,
   "id": "6747cdb2-5967-42e6-9d55-b0273f0e5a23",
   "metadata": {},
   "outputs": [
    {
     "name": "stderr",
     "output_type": "stream",
     "text": [
      "[nltk_data] Downloading package stopwords to\n",
      "[nltk_data]     C:\\Users\\Dilan\\AppData\\Roaming\\nltk_data...\n",
      "[nltk_data]   Unzipping corpora\\stopwords.zip.\n"
     ]
    }
   ],
   "source": [
    "nltk.download('stopwords')\n",
    "stop_words = set(stopwords.words('english'))\n",
    "\n",
    "def count_stop_words(title):\n",
    "    if pd.notna(title):\n",
    "        words = title.split()\n",
    "        return sum(1 for word in words if word.lower() in stop_words)\n",
    "    return 0\n",
    "\n",
    "df['title_stop_words_count'] = df['title'].apply(count_stop_words)"
   ]
  },
  {
   "cell_type": "markdown",
   "id": "c3a0d76b-5882-44e3-9220-0f20366efa3d",
   "metadata": {},
   "source": [
    "### Proportion Stop Words"
   ]
  },
  {
   "cell_type": "code",
   "execution_count": 42,
   "id": "6604b6e7-3525-4f7f-a422-81eef8c1359b",
   "metadata": {},
   "outputs": [],
   "source": [
    "def proportion_stop_words(title):\n",
    "    if pd.notna(title):\n",
    "        words = title.split()\n",
    "        if words:\n",
    "            stop_word_count = sum(1 for word in words if word.lower() in stop_words)\n",
    "            return stop_word_count / len(words)\n",
    "    return 0.0\n",
    "\n",
    "df['title_stop_words_prop'] = df['title'].apply(proportion_stop_words)"
   ]
  },
  {
   "cell_type": "markdown",
   "id": "1a0f42a3-669e-4a65-9397-eeaca6491b0d",
   "metadata": {},
   "source": [
    "# Quotes"
   ]
  },
  {
   "cell_type": "markdown",
   "id": "cc6a950f-5cb8-4d8e-a233-1ea01f02b7e1",
   "metadata": {},
   "source": [
    "### Contains Quote"
   ]
  },
  {
   "cell_type": "code",
   "execution_count": 46,
   "id": "74e05015-d7bb-4edb-a458-fd4a87d6127a",
   "metadata": {},
   "outputs": [],
   "source": [
    "def contains_quote(title):\n",
    "    if pd.notna(title):\n",
    "        return (title.count('\"') == 2) or (title.count(\"'\") == 2)\n",
    "    return False\n",
    "\n",
    "df['title_contains_quote'] = df['title'].apply(contains_quote).astype(int)"
   ]
  }
 ],
 "metadata": {
  "kernelspec": {
   "display_name": "Python 3 (ipykernel)",
   "language": "python",
   "name": "python3"
  },
  "language_info": {
   "codemirror_mode": {
    "name": "ipython",
    "version": 3
   },
   "file_extension": ".py",
   "mimetype": "text/x-python",
   "name": "python",
   "nbconvert_exporter": "python",
   "pygments_lexer": "ipython3",
   "version": "3.10.12"
  }
 },
 "nbformat": 4,
 "nbformat_minor": 5
}
