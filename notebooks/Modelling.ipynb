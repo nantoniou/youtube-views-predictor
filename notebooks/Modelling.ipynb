{
 "cells": [
  {
   "cell_type": "markdown",
   "id": "b4599d17-b9e6-4df2-ad01-d1c55d9b22dd",
   "metadata": {},
   "source": [
    "# Code for everything"
   ]
  },
  {
   "cell_type": "markdown",
   "id": "e6a7186e-341b-428b-bed8-1fece2de9a4b",
   "metadata": {},
   "source": [
    "## Imports"
   ]
  },
  {
   "cell_type": "code",
   "execution_count": 21,
   "id": "462ac0ca-718d-4edd-9ddc-3cfd6217bb9b",
   "metadata": {},
   "outputs": [],
   "source": [
    "import pandas as pd\n",
    "import numpy as np\n",
    "\n",
    "from sklearn.model_selection import train_test_split, GridSearchCV\n",
    "from sklearn.ensemble import RandomForestRegressor\n",
    "from sklearn.model_selection import PredefinedSplit\n",
    "from xgboost import XGBRegressor\n",
    "from sklearn.linear_model import Lasso\n",
    "from sklearn.metrics import mean_absolute_error, mean_squared_error, r2_score"
   ]
  },
  {
   "cell_type": "markdown",
   "id": "d53ba9c9-4f64-4662-8805-4805efbeb86b",
   "metadata": {},
   "source": [
    "## Data Loading"
   ]
  },
  {
   "cell_type": "code",
   "execution_count": 85,
   "id": "3584576c-a760-4fd3-a547-18669de1a1f6",
   "metadata": {},
   "outputs": [],
   "source": [
    "df_train = pd.read_csv('../data/US_youtube_trending_train_20231122.csv')\n",
    "df_test = pd.read_csv('../data/US_youtube_trending_test_20231122.csv')\n",
    "df_val = pd.read_csv('../data/US_youtube_trending_validation_20231122.csv')"
   ]
  },
  {
   "cell_type": "code",
   "execution_count": 86,
   "id": "81d880a7-923d-43c9-a9d4-fb523b795135",
   "metadata": {
    "tags": []
   },
   "outputs": [],
   "source": [
    "df_train['face_detected'] = df_train['Face Detected'].astype('bool')\n",
    "df_train['text_detected'] = df_train['Text Detected'].astype('bool')\n",
    "df_train.rename({\"Color Palette\": \"color_palette\"}, axis=1, inplace=True)\n",
    "\n",
    "df_test['face_detected'] = df_test['Face Detected'].astype('bool')\n",
    "df_test['text_detected'] = df_test['Text Detected'].astype('bool')\n",
    "df_test.rename({\"Color Palette\": \"color_palette\"}, axis=1, inplace=True)\n",
    "\n",
    "df_val['face_detected'] = df_val['Face Detected'].astype('bool')\n",
    "df_val['text_detected'] = df_val['Text Detected'].astype('bool')\n",
    "df_val.rename({\"Color Palette\": \"color_palette\"}, axis=1, inplace=True)"
   ]
  },
  {
   "cell_type": "markdown",
   "id": "36b8967d-88b3-4da7-b297-0ebc5387543a",
   "metadata": {},
   "source": [
    "## Selecting columns of interest"
   ]
  },
  {
   "cell_type": "code",
   "execution_count": 87,
   "id": "048bc7cb-123a-495f-843d-db0a365b1311",
   "metadata": {
    "tags": []
   },
   "outputs": [],
   "source": [
    "cols = [\n",
    "    # Target Variable\n",
    "    'view_count',\n",
    "    \n",
    "    # Thumbnail Analysis\n",
    "    'Brightness', 'top3_contains_black','top3_contains_blue','top3_contains_brown','top3_contains_green','top3_contains_grey',\n",
    "    'top3_contains_orange','top3_contains_pink','top3_contains_purple','top3_contains_red','top3_contains_white','top3_contains_yellow',\n",
    "    'Saturation', 'Contrast', 'color_palette', 'text_detected', 'face_detected',\n",
    "    \n",
    "    # Last  Video Data\n",
    "    #'last_video_log_comment_count', 'last_video_log_days_on_trending', 'last_video_log_dislikes', 'last_video_log_likes', 'last_video_log_views',\n",
    "    \n",
    "    # Video metadata\n",
    "    'categoryId',  'comments_disabled', 'ratings_disabled', \n",
    "    #'hour_of_day_published', 'local_hour_of_day_published',\n",
    "    \n",
    "    # Published Time Data\n",
    "    #'hour_published_normalized', \n",
    "    'time_of_day_published', 'day_of_week_published', 'is_weekend_published', \n",
    "    'local_time_of_day_published',\n",
    "    #'local_hour_published_normalized', \n",
    "    'published_on_holiday',\n",
    "    \n",
    "    # Previous year data\n",
    "    #'previous_365_days_geo_avg_like_dislike_ratio', \n",
    "    'previous_365_days_log_avg_comment_count', 'previous_365_days_log_avg_days_on_trending',\n",
    "    'previous_365_days_log_avg_dislikes', 'previous_365_days_log_avg_likes', 'previous_365_days_log_avg_views', 'previous_365_days_log_videos_count',\n",
    "\n",
    "    # Title Analysis\n",
    "    'title_length_chars', 'title_length_words', 'title_avg_word_length', 'title_longest_word_length', 'title_all_upcase',\n",
    "    'title_first_upcase', 'title_any_upcase', 'title_prop_upcase', 'title_all_lowercase', 'title_sentiment', 'title_contains_digit',\n",
    "    'title_starts_digit', 'title_contains_question', 'title_exclamation_count', 'title_punctuation_count',\n",
    "    'title_stop_words_count', 'title_stop_words_prop', 'title_contains_quote', \n",
    "]"
   ]
  },
  {
   "cell_type": "code",
   "execution_count": 88,
   "id": "5fc18fff-f954-4d13-bdb7-85b1ec1e6042",
   "metadata": {
    "tags": []
   },
   "outputs": [
    {
     "data": {
      "text/plain": [
       "{'Face Detected',\n",
       " 'Text Detected',\n",
       " 'channelId',\n",
       " 'channelTitle',\n",
       " 'comment_count',\n",
       " 'days_on_trending',\n",
       " 'days_since_published',\n",
       " 'description',\n",
       " 'dislikes',\n",
       " 'dislikes_scaled',\n",
       " 'hour_of_day_published',\n",
       " 'hour_published_normalized',\n",
       " 'is_weekend_trending',\n",
       " 'last_video_comment_count',\n",
       " 'last_video_days_on_trending',\n",
       " 'last_video_dislikes',\n",
       " 'last_video_likes',\n",
       " 'last_video_log_comment_count',\n",
       " 'last_video_log_days_on_trending',\n",
       " 'last_video_log_dislikes',\n",
       " 'last_video_log_likes',\n",
       " 'last_video_log_views',\n",
       " 'last_video_views',\n",
       " 'likes',\n",
       " 'likes_scaled',\n",
       " 'local_hour_of_day_published',\n",
       " 'local_hour_published_normalized',\n",
       " 'previous_365_days_avg_comment_count',\n",
       " 'previous_365_days_avg_days_on_trending',\n",
       " 'previous_365_days_avg_dislikes',\n",
       " 'previous_365_days_avg_likes',\n",
       " 'previous_365_days_avg_views',\n",
       " 'previous_365_days_geo_avg_like_dislike_ratio',\n",
       " 'previous_365_days_videos_count',\n",
       " 'previous_avg_days_on_trending',\n",
       " 'publishedAt',\n",
       " 'tags',\n",
       " 'thumbnail_link',\n",
       " 'title',\n",
       " 'trending_date',\n",
       " 'trending_day_of_week',\n",
       " 'video_id',\n",
       " 'view_count_scaled'}"
      ]
     },
     "execution_count": 88,
     "metadata": {},
     "output_type": "execute_result"
    }
   ],
   "source": [
    "set(df_train.columns) - set(cols)"
   ]
  },
  {
   "cell_type": "code",
   "execution_count": 89,
   "id": "df52522e-7cdd-4154-8c74-414b62a23d86",
   "metadata": {
    "tags": []
   },
   "outputs": [],
   "source": [
    "df_train = df_train[cols]\n",
    "df_test = df_test[cols]\n",
    "df_val = df_val[cols]"
   ]
  },
  {
   "cell_type": "code",
   "execution_count": 90,
   "id": "5f966f9f-8d5b-429b-a5d2-843f1d8a54cd",
   "metadata": {},
   "outputs": [],
   "source": [
    "df_train['text_detected'] = df_train['text_detected'].astype(int)\n",
    "df_train['face_detected'] = df_train['face_detected'].astype(int)\n",
    "df_train['comments_disabled'] = df_train['comments_disabled'].astype(int)\n",
    "df_train['ratings_disabled'] = df_train['ratings_disabled'].astype(int)\n",
    "df_train['is_weekend_published'] = df_train['is_weekend_published'].astype(int)\n",
    "df_train['published_on_holiday'] = df_train['published_on_holiday'].astype(int)\n",
    "df_train['title_all_upcase'] = df_train['title_all_upcase'].astype(int)\n",
    "\n",
    "df_test['text_detected'] = df_test['text_detected'].astype(int)\n",
    "df_test['face_detected'] = df_test['face_detected'].astype(int)\n",
    "df_test['comments_disabled'] = df_test['comments_disabled'].astype(int)\n",
    "df_test['ratings_disabled'] = df_test['ratings_disabled'].astype(int)\n",
    "df_test['is_weekend_published'] = df_test['is_weekend_published'].astype(int)\n",
    "df_test['published_on_holiday'] = df_test['published_on_holiday'].astype(int)\n",
    "df_test['title_all_upcase'] = df_test['title_all_upcase'].astype(int)\n",
    "\n",
    "df_val['text_detected'] = df_val['text_detected'].astype(int)\n",
    "df_val['face_detected'] = df_val['face_detected'].astype(int)\n",
    "df_val['comments_disabled'] = df_val['comments_disabled'].astype(int)\n",
    "df_val['ratings_disabled'] = df_val['ratings_disabled'].astype(int)\n",
    "df_val['is_weekend_published'] = df_val['is_weekend_published'].astype(int)\n",
    "df_val['published_on_holiday'] = df_val['published_on_holiday'].astype(int)\n",
    "df_val['title_all_upcase'] = df_val['title_all_upcase'].astype(int)"
   ]
  },
  {
   "cell_type": "markdown",
   "id": "803d8a96-a0c9-4553-98ce-d1825dc85f95",
   "metadata": {},
   "source": [
    "## Check NaN"
   ]
  },
  {
   "cell_type": "code",
   "execution_count": 91,
   "id": "84213474-8293-46c4-b834-6fb44f5e4e9d",
   "metadata": {
    "tags": []
   },
   "outputs": [
    {
     "data": {
      "text/plain": [
       "previous_365_days_log_avg_comment_count       0.169631\n",
       "previous_365_days_log_avg_days_on_trending    0.169631\n",
       "previous_365_days_log_avg_dislikes            0.169631\n",
       "previous_365_days_log_avg_likes               0.169631\n",
       "previous_365_days_log_avg_views               0.169631\n",
       "top3_contains_white                           0.038299\n",
       "color_palette                                 0.038299\n",
       "Contrast                                      0.038299\n",
       "Saturation                                    0.038299\n",
       "Brightness                                    0.038299\n",
       "dtype: float64"
      ]
     },
     "execution_count": 91,
     "metadata": {},
     "output_type": "execute_result"
    }
   ],
   "source": [
    "(df_train[cols].isna().sum() / len(df_train)).sort_values(ascending = False).head(10)"
   ]
  },
  {
   "cell_type": "markdown",
   "id": "b877f3d8-b943-45d9-b7b8-6ec181b9ffd1",
   "metadata": {},
   "source": [
    "## Handle nan"
   ]
  },
  {
   "cell_type": "code",
   "execution_count": 92,
   "id": "dc75bfd0-d239-433e-b17b-6a52d3493b30",
   "metadata": {
    "tags": []
   },
   "outputs": [],
   "source": [
    "df_train = df_train.fillna(0)\n",
    "df_test = df_test.fillna(0)\n",
    "df_val = df_val.fillna(0)"
   ]
  },
  {
   "cell_type": "markdown",
   "id": "00b8e95f-f1f8-404d-9e66-5548603865d6",
   "metadata": {},
   "source": [
    "## Selecting categorical columns"
   ]
  },
  {
   "cell_type": "code",
   "execution_count": 93,
   "id": "23882bb7-72c2-4dea-a466-7ba1956f284d",
   "metadata": {
    "tags": []
   },
   "outputs": [
    {
     "data": {
      "text/plain": [
       "Index(['color_palette', 'time_of_day_published', 'day_of_week_published',\n",
       "       'local_time_of_day_published'],\n",
       "      dtype='object')"
      ]
     },
     "execution_count": 93,
     "metadata": {},
     "output_type": "execute_result"
    }
   ],
   "source": [
    "cols_dtypes = df_train[cols].dtypes\n",
    "dummy_cols = cols_dtypes[cols_dtypes == \"object\"].index\n",
    "dummy_cols"
   ]
  },
  {
   "cell_type": "code",
   "execution_count": 94,
   "id": "cd858474-b3d6-47bb-ab69-972e24d3ba17",
   "metadata": {
    "tags": []
   },
   "outputs": [
    {
     "data": {
      "text/plain": [
       "array(['darkslategray', 'lightslategray', 'black', 'silver', 'royalblue',\n",
       "       0, 'midnightblue', 'slategray', 'rosybrown', 'burlywood', 'peru',\n",
       "       'saddlebrown', 'gainsboro', 'darkgray', 'lightsteelblue',\n",
       "       'dimgray', 'lime', 'whitesmoke', 'tan', 'wheat', 'indianred',\n",
       "       'lightgray', 'darkolivegreen', 'thistle', 'maroon',\n",
       "       'darkslateblue', 'powderblue', 'mistyrose', 'gray', 'skyblue',\n",
       "       'forestgreen', 'linen', 'brown', 'sienna', 'cornflowerblue',\n",
       "       'darkkhaki', 'lavender', 'goldenrod', 'khaki', 'seagreen',\n",
       "       'steelblue', 'lightcoral', 'darksalmon', 'palevioletred',\n",
       "       'darkcyan', 'darkseagreen', 'darkgreen', 'white', 'cadetblue',\n",
       "       'lightskyblue', 'plum', 'lightblue', 'beige', 'palegreen',\n",
       "       'indigo', 'orchid', 'lightpink', 'slateblue', 'blueviolet',\n",
       "       'darkgoldenrod', 'olivedrab', 'mediumaquamarine', 'mediumpurple',\n",
       "       'paleturquoise', 'lightgreen', 'snow', 'teal', 'mediumorchid',\n",
       "       'bisque', 'sandybrown', 'yellowgreen', 'pink', 'darkblue', 'olive',\n",
       "       'hotpink', 'mediumseagreen', 'chocolate', 'palegoldenrod',\n",
       "       'mediumblue', 'violet', 'darkviolet', 'dodgerblue', 'antiquewhite',\n",
       "       'turquoise', 'crimson', 'darkred', 'mediumturquoise', 'limegreen',\n",
       "       'red', 'magenta', 'gold', 'darkorange', 'lightsalmon',\n",
       "       'ghostwhite', 'aliceblue', 'oldlace', 'floralwhite', 'purple',\n",
       "       'lightseagreen', 'aquamarine', 'deepskyblue', 'mediumslateblue',\n",
       "       'darkorchid', 'mediumvioletred', 'firebrick', 'lawngreen',\n",
       "       'greenyellow', 'navajowhite', 'orangered', 'peachpuff',\n",
       "       'mintcream', 'seashell', 'deeppink'], dtype=object)"
      ]
     },
     "execution_count": 94,
     "metadata": {},
     "output_type": "execute_result"
    }
   ],
   "source": [
    "df_train.color_palette.unique()"
   ]
  },
  {
   "cell_type": "code",
   "execution_count": 95,
   "id": "15730402-5217-4db3-8a06-735693e9abee",
   "metadata": {
    "tags": []
   },
   "outputs": [
    {
     "data": {
      "text/plain": [
       "{'aliceblue',\n",
       " 'aquamarine',\n",
       " 'blueviolet',\n",
       " 'darkblue',\n",
       " 'darkorange',\n",
       " 'darkred',\n",
       " 'darkviolet',\n",
       " 'deeppink',\n",
       " 'deepskyblue',\n",
       " 'gold',\n",
       " 'greenyellow',\n",
       " 'hotpink',\n",
       " 'lawngreen',\n",
       " 'lightsalmon',\n",
       " 'lime',\n",
       " 'limegreen',\n",
       " 'magenta',\n",
       " 'mediumblue',\n",
       " 'mediumslateblue',\n",
       " 'mintcream',\n",
       " 'oldlace',\n",
       " 'olive',\n",
       " 'orangered',\n",
       " 'orchid',\n",
       " 'slateblue',\n",
       " 'turquoise'}"
      ]
     },
     "execution_count": 95,
     "metadata": {},
     "output_type": "execute_result"
    }
   ],
   "source": [
    "set(df_train.color_palette.unique()) - set(df_val.color_palette.unique())"
   ]
  },
  {
   "cell_type": "code",
   "execution_count": 96,
   "id": "caba7af6-c59c-4438-96c7-70490c2f0c28",
   "metadata": {
    "tags": []
   },
   "outputs": [],
   "source": [
    "all_categories = set(df_train['color_palette'].unique()) | \\\n",
    "                 set(df_test['color_palette'].unique()) | \\\n",
    "                 set(df_val['color_palette'].unique())\n",
    "\n",
    "category_mapping = {category: i for i, category in enumerate(all_categories)}\n",
    "\n",
    "def create_dummies(df, category_mapping):\n",
    "    dummies = pd.get_dummies(df['color_palette'])\n",
    "    # Add missing columns based on the full category list\n",
    "    for category in category_mapping:\n",
    "        if category not in dummies:\n",
    "            dummies[category] = 0\n",
    "    # Ensure consistent column order\n",
    "    sorted_keys = sorted(category_mapping.keys(), key=str)\n",
    "    dummies = dummies[sorted_keys]\n",
    "    return dummies\n",
    "\n",
    "train_dummies = create_dummies(df_train, category_mapping)\n",
    "test_dummies = create_dummies(df_test, category_mapping)\n",
    "validation_dummies = create_dummies(df_val, category_mapping)\n",
    "\n",
    "df_train = df_train.drop('color_palette', axis=1).join(train_dummies)\n",
    "df_test = df_test.drop('color_palette', axis=1).join(test_dummies)\n",
    "df_val = df_val.drop('color_palette', axis=1).join(validation_dummies)"
   ]
  },
  {
   "cell_type": "code",
   "execution_count": 97,
   "id": "52b266ce-8375-4dac-b0ee-ae65f05b32ff",
   "metadata": {
    "tags": []
   },
   "outputs": [],
   "source": [
    "# dummies for color_palette already created\n",
    "dummy_cols = dummy_cols.delete(0)"
   ]
  },
  {
   "cell_type": "code",
   "execution_count": 98,
   "id": "113d7aba-6cd4-47c3-8041-e38864ce9043",
   "metadata": {
    "tags": []
   },
   "outputs": [],
   "source": [
    "df_train = pd.get_dummies(df_train, columns=dummy_cols)\n",
    "df_test = pd.get_dummies(df_test, columns=dummy_cols)\n",
    "df_val = pd.get_dummies(df_val, columns=dummy_cols)"
   ]
  },
  {
   "cell_type": "code",
   "execution_count": 100,
   "id": "b8a257ca-efc1-4be7-8247-1b3b61570791",
   "metadata": {},
   "outputs": [],
   "source": [
    "categories = [24,  1, 26, 20, 28, 10, 27, 25, 22, 23,  2, 17, 15, 19, 29]\n",
    "df_train['categoryId'] = pd.Categorical(df_train['categoryId'], categories = categories)\n",
    "df_test['categoryId'] = pd.Categorical(df_test['categoryId'], categories = categories)\n",
    "df_val['categoryId'] = pd.Categorical(df_val['categoryId'], categories = categories)\n",
    "\n",
    "categories = [-1, 0, 1]\n",
    "df_train['title_sentiment'] = pd.Categorical(df_train['title_sentiment'], categories = categories)\n",
    "df_test['title_sentiment'] = pd.Categorical(df_test['title_sentiment'], categories = categories)\n",
    "df_val['title_sentiment'] = pd.Categorical(df_val['title_sentiment'], categories = categories)"
   ]
  },
  {
   "cell_type": "code",
   "execution_count": 101,
   "id": "77d44192-061e-45dd-ac08-a0e27f557693",
   "metadata": {},
   "outputs": [],
   "source": [
    "df_train = pd.get_dummies(df_train, columns = ['categoryId', 'title_sentiment'])\n",
    "df_test = pd.get_dummies(df_test, columns = ['categoryId', 'title_sentiment'])\n",
    "df_val = pd.get_dummies(df_val, columns = ['categoryId', 'title_sentiment'])"
   ]
  },
  {
   "cell_type": "code",
   "execution_count": 102,
   "id": "794d89cc-2366-4da1-9fb2-6fa1841f8682",
   "metadata": {},
   "outputs": [
    {
     "data": {
      "text/html": [
       "<div>\n",
       "<style scoped>\n",
       "    .dataframe tbody tr th:only-of-type {\n",
       "        vertical-align: middle;\n",
       "    }\n",
       "\n",
       "    .dataframe tbody tr th {\n",
       "        vertical-align: top;\n",
       "    }\n",
       "\n",
       "    .dataframe thead th {\n",
       "        text-align: right;\n",
       "    }\n",
       "</style>\n",
       "<table border=\"1\" class=\"dataframe\">\n",
       "  <thead>\n",
       "    <tr style=\"text-align: right;\">\n",
       "      <th></th>\n",
       "      <th>view_count</th>\n",
       "      <th>Brightness</th>\n",
       "      <th>top3_contains_black</th>\n",
       "      <th>top3_contains_blue</th>\n",
       "      <th>top3_contains_brown</th>\n",
       "      <th>top3_contains_green</th>\n",
       "      <th>top3_contains_grey</th>\n",
       "      <th>top3_contains_orange</th>\n",
       "      <th>top3_contains_pink</th>\n",
       "      <th>top3_contains_purple</th>\n",
       "      <th>...</th>\n",
       "      <th>categoryId_22</th>\n",
       "      <th>categoryId_23</th>\n",
       "      <th>categoryId_2</th>\n",
       "      <th>categoryId_17</th>\n",
       "      <th>categoryId_15</th>\n",
       "      <th>categoryId_19</th>\n",
       "      <th>categoryId_29</th>\n",
       "      <th>title_sentiment_-1</th>\n",
       "      <th>title_sentiment_0</th>\n",
       "      <th>title_sentiment_1</th>\n",
       "    </tr>\n",
       "  </thead>\n",
       "  <tbody>\n",
       "    <tr>\n",
       "      <th>0</th>\n",
       "      <td>2291958</td>\n",
       "      <td>95.544693</td>\n",
       "      <td>1.0</td>\n",
       "      <td>0.0</td>\n",
       "      <td>0.0</td>\n",
       "      <td>0.0</td>\n",
       "      <td>1.0</td>\n",
       "      <td>0.0</td>\n",
       "      <td>0.0</td>\n",
       "      <td>0.0</td>\n",
       "      <td>...</td>\n",
       "      <td>False</td>\n",
       "      <td>False</td>\n",
       "      <td>False</td>\n",
       "      <td>False</td>\n",
       "      <td>False</td>\n",
       "      <td>False</td>\n",
       "      <td>False</td>\n",
       "      <td>True</td>\n",
       "      <td>False</td>\n",
       "      <td>False</td>\n",
       "    </tr>\n",
       "    <tr>\n",
       "      <th>1</th>\n",
       "      <td>2527029</td>\n",
       "      <td>95.544693</td>\n",
       "      <td>1.0</td>\n",
       "      <td>0.0</td>\n",
       "      <td>0.0</td>\n",
       "      <td>0.0</td>\n",
       "      <td>1.0</td>\n",
       "      <td>0.0</td>\n",
       "      <td>0.0</td>\n",
       "      <td>0.0</td>\n",
       "      <td>...</td>\n",
       "      <td>False</td>\n",
       "      <td>False</td>\n",
       "      <td>False</td>\n",
       "      <td>False</td>\n",
       "      <td>False</td>\n",
       "      <td>False</td>\n",
       "      <td>False</td>\n",
       "      <td>True</td>\n",
       "      <td>False</td>\n",
       "      <td>False</td>\n",
       "    </tr>\n",
       "    <tr>\n",
       "      <th>2</th>\n",
       "      <td>2542208</td>\n",
       "      <td>95.544693</td>\n",
       "      <td>1.0</td>\n",
       "      <td>0.0</td>\n",
       "      <td>0.0</td>\n",
       "      <td>0.0</td>\n",
       "      <td>1.0</td>\n",
       "      <td>0.0</td>\n",
       "      <td>0.0</td>\n",
       "      <td>0.0</td>\n",
       "      <td>...</td>\n",
       "      <td>False</td>\n",
       "      <td>False</td>\n",
       "      <td>False</td>\n",
       "      <td>False</td>\n",
       "      <td>False</td>\n",
       "      <td>False</td>\n",
       "      <td>False</td>\n",
       "      <td>True</td>\n",
       "      <td>False</td>\n",
       "      <td>False</td>\n",
       "    </tr>\n",
       "    <tr>\n",
       "      <th>3</th>\n",
       "      <td>2551698</td>\n",
       "      <td>95.544693</td>\n",
       "      <td>1.0</td>\n",
       "      <td>0.0</td>\n",
       "      <td>0.0</td>\n",
       "      <td>0.0</td>\n",
       "      <td>1.0</td>\n",
       "      <td>0.0</td>\n",
       "      <td>0.0</td>\n",
       "      <td>0.0</td>\n",
       "      <td>...</td>\n",
       "      <td>False</td>\n",
       "      <td>False</td>\n",
       "      <td>False</td>\n",
       "      <td>False</td>\n",
       "      <td>False</td>\n",
       "      <td>False</td>\n",
       "      <td>False</td>\n",
       "      <td>True</td>\n",
       "      <td>False</td>\n",
       "      <td>False</td>\n",
       "    </tr>\n",
       "    <tr>\n",
       "      <th>4</th>\n",
       "      <td>2558032</td>\n",
       "      <td>95.544693</td>\n",
       "      <td>1.0</td>\n",
       "      <td>0.0</td>\n",
       "      <td>0.0</td>\n",
       "      <td>0.0</td>\n",
       "      <td>1.0</td>\n",
       "      <td>0.0</td>\n",
       "      <td>0.0</td>\n",
       "      <td>0.0</td>\n",
       "      <td>...</td>\n",
       "      <td>False</td>\n",
       "      <td>False</td>\n",
       "      <td>False</td>\n",
       "      <td>False</td>\n",
       "      <td>False</td>\n",
       "      <td>False</td>\n",
       "      <td>False</td>\n",
       "      <td>True</td>\n",
       "      <td>False</td>\n",
       "      <td>False</td>\n",
       "    </tr>\n",
       "    <tr>\n",
       "      <th>...</th>\n",
       "      <td>...</td>\n",
       "      <td>...</td>\n",
       "      <td>...</td>\n",
       "      <td>...</td>\n",
       "      <td>...</td>\n",
       "      <td>...</td>\n",
       "      <td>...</td>\n",
       "      <td>...</td>\n",
       "      <td>...</td>\n",
       "      <td>...</td>\n",
       "      <td>...</td>\n",
       "      <td>...</td>\n",
       "      <td>...</td>\n",
       "      <td>...</td>\n",
       "      <td>...</td>\n",
       "      <td>...</td>\n",
       "      <td>...</td>\n",
       "      <td>...</td>\n",
       "      <td>...</td>\n",
       "      <td>...</td>\n",
       "      <td>...</td>\n",
       "    </tr>\n",
       "    <tr>\n",
       "      <th>73077</th>\n",
       "      <td>235398</td>\n",
       "      <td>124.405790</td>\n",
       "      <td>1.0</td>\n",
       "      <td>0.0</td>\n",
       "      <td>1.0</td>\n",
       "      <td>0.0</td>\n",
       "      <td>0.0</td>\n",
       "      <td>0.0</td>\n",
       "      <td>0.0</td>\n",
       "      <td>0.0</td>\n",
       "      <td>...</td>\n",
       "      <td>False</td>\n",
       "      <td>False</td>\n",
       "      <td>False</td>\n",
       "      <td>False</td>\n",
       "      <td>False</td>\n",
       "      <td>True</td>\n",
       "      <td>False</td>\n",
       "      <td>False</td>\n",
       "      <td>False</td>\n",
       "      <td>True</td>\n",
       "    </tr>\n",
       "    <tr>\n",
       "      <th>73078</th>\n",
       "      <td>263205</td>\n",
       "      <td>124.405790</td>\n",
       "      <td>1.0</td>\n",
       "      <td>0.0</td>\n",
       "      <td>1.0</td>\n",
       "      <td>0.0</td>\n",
       "      <td>0.0</td>\n",
       "      <td>0.0</td>\n",
       "      <td>0.0</td>\n",
       "      <td>0.0</td>\n",
       "      <td>...</td>\n",
       "      <td>False</td>\n",
       "      <td>False</td>\n",
       "      <td>False</td>\n",
       "      <td>False</td>\n",
       "      <td>False</td>\n",
       "      <td>True</td>\n",
       "      <td>False</td>\n",
       "      <td>False</td>\n",
       "      <td>False</td>\n",
       "      <td>True</td>\n",
       "    </tr>\n",
       "    <tr>\n",
       "      <th>73079</th>\n",
       "      <td>280751</td>\n",
       "      <td>124.405790</td>\n",
       "      <td>1.0</td>\n",
       "      <td>0.0</td>\n",
       "      <td>1.0</td>\n",
       "      <td>0.0</td>\n",
       "      <td>0.0</td>\n",
       "      <td>0.0</td>\n",
       "      <td>0.0</td>\n",
       "      <td>0.0</td>\n",
       "      <td>...</td>\n",
       "      <td>False</td>\n",
       "      <td>False</td>\n",
       "      <td>False</td>\n",
       "      <td>False</td>\n",
       "      <td>False</td>\n",
       "      <td>True</td>\n",
       "      <td>False</td>\n",
       "      <td>False</td>\n",
       "      <td>False</td>\n",
       "      <td>True</td>\n",
       "    </tr>\n",
       "    <tr>\n",
       "      <th>73080</th>\n",
       "      <td>294538</td>\n",
       "      <td>124.405790</td>\n",
       "      <td>1.0</td>\n",
       "      <td>0.0</td>\n",
       "      <td>1.0</td>\n",
       "      <td>0.0</td>\n",
       "      <td>0.0</td>\n",
       "      <td>0.0</td>\n",
       "      <td>0.0</td>\n",
       "      <td>0.0</td>\n",
       "      <td>...</td>\n",
       "      <td>False</td>\n",
       "      <td>False</td>\n",
       "      <td>False</td>\n",
       "      <td>False</td>\n",
       "      <td>False</td>\n",
       "      <td>True</td>\n",
       "      <td>False</td>\n",
       "      <td>False</td>\n",
       "      <td>False</td>\n",
       "      <td>True</td>\n",
       "    </tr>\n",
       "    <tr>\n",
       "      <th>73081</th>\n",
       "      <td>305289</td>\n",
       "      <td>124.405790</td>\n",
       "      <td>1.0</td>\n",
       "      <td>0.0</td>\n",
       "      <td>1.0</td>\n",
       "      <td>0.0</td>\n",
       "      <td>0.0</td>\n",
       "      <td>0.0</td>\n",
       "      <td>0.0</td>\n",
       "      <td>0.0</td>\n",
       "      <td>...</td>\n",
       "      <td>False</td>\n",
       "      <td>False</td>\n",
       "      <td>False</td>\n",
       "      <td>False</td>\n",
       "      <td>False</td>\n",
       "      <td>True</td>\n",
       "      <td>False</td>\n",
       "      <td>False</td>\n",
       "      <td>False</td>\n",
       "      <td>True</td>\n",
       "    </tr>\n",
       "  </tbody>\n",
       "</table>\n",
       "<p>73082 rows × 197 columns</p>\n",
       "</div>"
      ],
      "text/plain": [
       "       view_count  Brightness  top3_contains_black  top3_contains_blue  \\\n",
       "0         2291958   95.544693                  1.0                 0.0   \n",
       "1         2527029   95.544693                  1.0                 0.0   \n",
       "2         2542208   95.544693                  1.0                 0.0   \n",
       "3         2551698   95.544693                  1.0                 0.0   \n",
       "4         2558032   95.544693                  1.0                 0.0   \n",
       "...           ...         ...                  ...                 ...   \n",
       "73077      235398  124.405790                  1.0                 0.0   \n",
       "73078      263205  124.405790                  1.0                 0.0   \n",
       "73079      280751  124.405790                  1.0                 0.0   \n",
       "73080      294538  124.405790                  1.0                 0.0   \n",
       "73081      305289  124.405790                  1.0                 0.0   \n",
       "\n",
       "       top3_contains_brown  top3_contains_green  top3_contains_grey  \\\n",
       "0                      0.0                  0.0                 1.0   \n",
       "1                      0.0                  0.0                 1.0   \n",
       "2                      0.0                  0.0                 1.0   \n",
       "3                      0.0                  0.0                 1.0   \n",
       "4                      0.0                  0.0                 1.0   \n",
       "...                    ...                  ...                 ...   \n",
       "73077                  1.0                  0.0                 0.0   \n",
       "73078                  1.0                  0.0                 0.0   \n",
       "73079                  1.0                  0.0                 0.0   \n",
       "73080                  1.0                  0.0                 0.0   \n",
       "73081                  1.0                  0.0                 0.0   \n",
       "\n",
       "       top3_contains_orange  top3_contains_pink  top3_contains_purple  ...  \\\n",
       "0                       0.0                 0.0                   0.0  ...   \n",
       "1                       0.0                 0.0                   0.0  ...   \n",
       "2                       0.0                 0.0                   0.0  ...   \n",
       "3                       0.0                 0.0                   0.0  ...   \n",
       "4                       0.0                 0.0                   0.0  ...   \n",
       "...                     ...                 ...                   ...  ...   \n",
       "73077                   0.0                 0.0                   0.0  ...   \n",
       "73078                   0.0                 0.0                   0.0  ...   \n",
       "73079                   0.0                 0.0                   0.0  ...   \n",
       "73080                   0.0                 0.0                   0.0  ...   \n",
       "73081                   0.0                 0.0                   0.0  ...   \n",
       "\n",
       "       categoryId_22  categoryId_23  categoryId_2  categoryId_17  \\\n",
       "0              False          False         False          False   \n",
       "1              False          False         False          False   \n",
       "2              False          False         False          False   \n",
       "3              False          False         False          False   \n",
       "4              False          False         False          False   \n",
       "...              ...            ...           ...            ...   \n",
       "73077          False          False         False          False   \n",
       "73078          False          False         False          False   \n",
       "73079          False          False         False          False   \n",
       "73080          False          False         False          False   \n",
       "73081          False          False         False          False   \n",
       "\n",
       "       categoryId_15  categoryId_19  categoryId_29  title_sentiment_-1  \\\n",
       "0              False          False          False                True   \n",
       "1              False          False          False                True   \n",
       "2              False          False          False                True   \n",
       "3              False          False          False                True   \n",
       "4              False          False          False                True   \n",
       "...              ...            ...            ...                 ...   \n",
       "73077          False           True          False               False   \n",
       "73078          False           True          False               False   \n",
       "73079          False           True          False               False   \n",
       "73080          False           True          False               False   \n",
       "73081          False           True          False               False   \n",
       "\n",
       "       title_sentiment_0  title_sentiment_1  \n",
       "0                  False              False  \n",
       "1                  False              False  \n",
       "2                  False              False  \n",
       "3                  False              False  \n",
       "4                  False              False  \n",
       "...                  ...                ...  \n",
       "73077              False               True  \n",
       "73078              False               True  \n",
       "73079              False               True  \n",
       "73080              False               True  \n",
       "73081              False               True  \n",
       "\n",
       "[73082 rows x 197 columns]"
      ]
     },
     "execution_count": 102,
     "metadata": {},
     "output_type": "execute_result"
    }
   ],
   "source": [
    "df_train"
   ]
  },
  {
   "cell_type": "markdown",
   "id": "3e162301-1796-4c7a-ba3c-21865094189e",
   "metadata": {},
   "source": [
    "## Replacing -inf values in the log columns"
   ]
  },
  {
   "cell_type": "code",
   "execution_count": 103,
   "id": "6796f2dd-1503-4f48-af66-f858e138384a",
   "metadata": {
    "tags": []
   },
   "outputs": [],
   "source": [
    "df_train = df_train.replace([np.inf, -np.inf], 0)\n",
    "df_test = df_test.replace([np.inf, -np.inf], 0)\n",
    "df_val = df_val.replace([np.inf, -np.inf], 0)"
   ]
  },
  {
   "cell_type": "markdown",
   "id": "ebb63be4-eb8c-40d9-aebc-fc2a26dc674c",
   "metadata": {},
   "source": [
    "## Training"
   ]
  },
  {
   "cell_type": "code",
   "execution_count": 104,
   "id": "a1113ee0-09ec-4be2-a7a8-269ac5dcaad9",
   "metadata": {
    "tags": []
   },
   "outputs": [],
   "source": [
    "X_train = df_train.loc[:, df_train.columns != \"view_count\"]\n",
    "y_train = df_train[\"view_count\"]\n",
    "\n",
    "X_test = df_test.loc[:, df_test.columns != \"view_count\"]\n",
    "y_test = df_test[\"view_count\"]\n",
    "\n",
    "X_val = df_val.loc[:, df_val.columns != \"view_count\"]\n",
    "y_val = df_val[\"view_count\"]"
   ]
  },
  {
   "cell_type": "code",
   "execution_count": 105,
   "id": "a2704c8f-fdc8-474d-abfd-9da01e3ab7bc",
   "metadata": {
    "tags": []
   },
   "outputs": [],
   "source": [
    "# Create an array where training instances are -1 and validation instances are 0\n",
    "test_fold = [-1 for _ in range(X_train.shape[0])] + [0 for _ in range(X_val.shape[0])]\n",
    "ps = PredefinedSplit(test_fold)\n",
    "\n",
    "X_combined = np.concatenate((X_train, X_val))\n",
    "X_val.columns = X_val.columns.astype(str)\n",
    "y_combined = np.concatenate((y_train, y_val))"
   ]
  },
  {
   "cell_type": "markdown",
   "id": "cc72d2c5-3dd2-44d9-b7b8-ffba9ee195d4",
   "metadata": {},
   "source": [
    "### Random Forest"
   ]
  },
  {
   "cell_type": "code",
   "execution_count": 109,
   "id": "dbd1289e-6a1a-47db-9f12-a0f4d081a619",
   "metadata": {},
   "outputs": [],
   "source": [
    "from sklearn.model_selection import GridSearchCV, KFold"
   ]
  },
  {
   "cell_type": "code",
   "execution_count": 112,
   "id": "55f820e5-8a94-4428-8bdc-b063ed2d81dd",
   "metadata": {},
   "outputs": [
    {
     "name": "stdout",
     "output_type": "stream",
     "text": [
      "Fitting 3 folds for each of 9 candidates, totalling 27 fits\n"
     ]
    }
   ],
   "source": [
    "rf = RandomForestRegressor(random_state = 42)\n",
    "rf_params = {'n_estimators': [50, 100, 200, 500], 'max_depth': [3, 6, 9, 12, 15]}\n",
    "rf_gs = GridSearchCV(rf, rf_params, cv = ps, n_jobs = -1, verbose = 3)\n",
    "rf_gs.fit(X_combined, y_combined)\n",
    "rf_best = rf_gs.best_estimator_"
   ]
  },
  {
   "cell_type": "code",
   "execution_count": 122,
   "id": "530278e9-cbd0-4f44-92e2-130c01453b82",
   "metadata": {},
   "outputs": [
    {
     "name": "stdout",
     "output_type": "stream",
     "text": [
      "Fitting 1 folds for each of 140 candidates, totalling 140 fits\n"
     ]
    }
   ],
   "source": [
    "xgb = XGBRegressor(random_state = 42)\n",
    "xgb_params = {'n_estimators': [50, 100, 200, 500, 1000], 'max_depth': [3, 5, 7, 9, 11, 13, 15], 'learning_rate': [0.1, 0.05, 0.025, 0.01]}\n",
    "xgb_gs = GridSearchCV(xgb, xgb_params, cv = ps, n_jobs = -1, verbose = 3)\n",
    "xgb_gs.fit(X_combined, y_combined)\n",
    "xgb_best = xgb_gs.best_estimator_"
   ]
  },
  {
   "cell_type": "code",
   "execution_count": 123,
   "id": "ba51070d-fc7b-4f1a-979b-86928f08317e",
   "metadata": {},
   "outputs": [
    {
     "name": "stdout",
     "output_type": "stream",
     "text": [
      "Model: RandomForestRegressor, MAE: 2081468.8099442536, MSE: 56762681022527.586, R2: 0.612724543456437\n",
      "Model: XGBRegressor, MAE: 2089616.3449110533, MSE: 55098686712925.125, R2: 0.6240774983262295\n"
     ]
    }
   ],
   "source": [
    "models = [rf_best, xgb_best]\n",
    "for model in models:\n",
    "    predictions = model.predict(X_test.to_numpy())\n",
    "    mae = mean_absolute_error(y_test, predictions)\n",
    "    mse = mean_squared_error(y_test, predictions)\n",
    "    r2 = r2_score(y_test, predictions)\n",
    "    print(f'Model: {model.__class__.__name__}, MAE: {mae}, MSE: {mse}, R2: {r2}')"
   ]
  },
  {
   "cell_type": "code",
   "execution_count": 19,
   "id": "fae8978e-092d-482a-8b20-7ea39727d275",
   "metadata": {},
   "outputs": [
    {
     "name": "stdout",
     "output_type": "stream",
     "text": [
      "Fitting 1 folds for each of 4 candidates, totalling 4 fits\n"
     ]
    }
   ],
   "source": [
    "# rf = RandomForestRegressor(random_state=42)\n",
    "# rf_params = {'n_estimators': [100, 200], 'max_depth': [10, 20]}\n",
    "# #rf_params = {'n_estimators': [100], 'max_depth': [15]}\n",
    "\n",
    "# rf_gs = GridSearchCV(rf, rf_params, cv=ps, n_jobs=-1, verbose=3)\n",
    "# rf_gs.fit(X_combined, y_combined)\n",
    "# rf_best = rf_gs.best_estimator_"
   ]
  },
  {
   "cell_type": "markdown",
   "id": "3e6e1ed6-6673-473f-9bf1-0b94e215bb47",
   "metadata": {},
   "source": [
    "### Interpretation stuff"
   ]
  },
  {
   "cell_type": "markdown",
   "id": "22c490a9-d1de-41fb-99eb-20bd0fbb3721",
   "metadata": {
    "tags": []
   },
   "source": [
    "feats = {} # a dict to hold feature_name: feature_importance\n",
    "for feature, importance in zip(X_train.columns, rf_best.feature_importances_):\n",
    "    feats[feature] = importance #add the name/value pair \n",
    "\n",
    "importances = pd.DataFrame.from_dict(feats, orient='index').rename(columns={0: 'importance'})\n",
    "importances.sort_values(by='importance')[-5:].plot(kind='bar', rot=45)"
   ]
  },
  {
   "cell_type": "markdown",
   "id": "6b0b2384-7bb6-4646-bb5a-19dcb36427c5",
   "metadata": {},
   "source": [
    "#### Export the first three decision trees from the forest\n",
    "\n",
    "for i in range(3):\n",
    "    tree = best_rf.estimators_[i]\n",
    "    dot_data = export_graphviz(tree,\n",
    "                               feature_names=X_train.columns,  \n",
    "                               filled=True,  \n",
    "                               max_depth=2, \n",
    "                               impurity=False, \n",
    "                               proportion=True)\n",
    "    graph = graphviz.Source(dot_data)\n",
    "    display(graph)"
   ]
  },
  {
   "cell_type": "markdown",
   "id": "05287055-bfc3-44be-8cdd-196977144cd2",
   "metadata": {},
   "source": [
    "### XGBoost"
   ]
  },
  {
   "cell_type": "code",
   "execution_count": 20,
   "id": "bbfc7d27-3f94-4ce1-99f6-e56ae1c45935",
   "metadata": {},
   "outputs": [
    {
     "name": "stdout",
     "output_type": "stream",
     "text": [
      "Fitting 1 folds for each of 8 candidates, totalling 8 fits\n"
     ]
    }
   ],
   "source": [
    "xgb = XGBRegressor(random_state=42)\n",
    "xgb_params = {'n_estimators': [100, 200], 'max_depth': [3, 6], 'learning_rate': [0.1, 0.01]}\n",
    "\n",
    "xgb_gs = GridSearchCV(xgb, xgb_params, cv=ps, n_jobs=-1, verbose=3)\n",
    "xgb_gs.fit(X_combined, y_combined)\n",
    "xgb_best = xgb_gs.best_estimator_"
   ]
  },
  {
   "cell_type": "markdown",
   "id": "97cae38b-6997-45ca-b9f7-43e941eb554c",
   "metadata": {},
   "source": [
    "### Lasso\n",
    "\n",
    "<sup><sub>ROBUST NOT SPARSE</sup></sub>"
   ]
  },
  {
   "cell_type": "code",
   "execution_count": 21,
   "id": "961a0997-4145-4f16-b366-678bfe2c93a6",
   "metadata": {},
   "outputs": [
    {
     "name": "stdout",
     "output_type": "stream",
     "text": [
      "Fitting 1 folds for each of 3 candidates, totalling 3 fits\n"
     ]
    },
    {
     "name": "stderr",
     "output_type": "stream",
     "text": [
      "C:\\Users\\Nick\\anaconda3\\Lib\\site-packages\\sklearn\\linear_model\\_coordinate_descent.py:628: ConvergenceWarning: Objective did not converge. You might want to increase the number of iterations, check the scale of the features or consider increasing regularisation. Duality gap: 2.214e+18, tolerance: 5.238e+14\n",
      "  model = cd_fast.enet_coordinate_descent(\n"
     ]
    }
   ],
   "source": [
    "lasso = Lasso()\n",
    "lasso_params = {'alpha': [0.1, 1, 3]}\n",
    "\n",
    "lasso_gs = GridSearchCV(lasso, lasso_params, cv=ps, n_jobs=-1, verbose=3)\n",
    "lasso_gs.fit(X_combined, y_combined)\n",
    "lasso_best = lasso_gs.best_estimator_"
   ]
  },
  {
   "cell_type": "markdown",
   "id": "600e0cc1-b2c8-479d-8e69-f75ee16ccc5f",
   "metadata": {},
   "source": [
    "### Model evaluation"
   ]
  },
  {
   "cell_type": "code",
   "execution_count": 113,
   "id": "1c47ee3a-ed9c-4c21-b345-f720078f288c",
   "metadata": {},
   "outputs": [
    {
     "ename": "NameError",
     "evalue": "name 'xgb_best' is not defined",
     "output_type": "error",
     "traceback": [
      "\u001b[1;31m---------------------------------------------------------------------------\u001b[0m",
      "\u001b[1;31mNameError\u001b[0m                                 Traceback (most recent call last)",
      "Cell \u001b[1;32mIn[113], line 1\u001b[0m\n\u001b[1;32m----> 1\u001b[0m models \u001b[38;5;241m=\u001b[39m [rf_best, \u001b[43mxgb_best\u001b[49m, lasso_best]\u001b[38;5;66;03m#,nn]\u001b[39;00m\n\u001b[0;32m      2\u001b[0m \u001b[38;5;28;01mfor\u001b[39;00m model \u001b[38;5;129;01min\u001b[39;00m models:\n\u001b[0;32m      3\u001b[0m     \u001b[38;5;66;03m#if model != nn:  # For non-neural network models\u001b[39;00m\n\u001b[0;32m      4\u001b[0m     \u001b[38;5;66;03m#    predictions = model.predict(X_test)\u001b[39;00m\n\u001b[0;32m      5\u001b[0m     \u001b[38;5;66;03m#else:\u001b[39;00m\n\u001b[0;32m      6\u001b[0m     \u001b[38;5;66;03m#    predictions = nn.predict(X_test).flatten()\u001b[39;00m\n\u001b[0;32m      7\u001b[0m     predictions \u001b[38;5;241m=\u001b[39m model\u001b[38;5;241m.\u001b[39mpredict(X_test\u001b[38;5;241m.\u001b[39mto_numpy())\n",
      "\u001b[1;31mNameError\u001b[0m: name 'xgb_best' is not defined"
     ]
    }
   ],
   "source": [
    "models = [rf_best, xgb_best, lasso_best]#,nn]\n",
    "for model in models:\n",
    "    #if model != nn:  # For non-neural network models\n",
    "    #    predictions = model.predict(X_test)\n",
    "    #else:\n",
    "    #    predictions = nn.predict(X_test).flatten()\n",
    "    predictions = model.predict(X_test.to_numpy())\n",
    "    mae = mean_absolute_error(y_test, predictions)\n",
    "    mse = mean_squared_error(y_test, predictions)\n",
    "    r2 = r2_score(y_test, predictions)\n",
    "    print(f'Model: {model.__class__.__name__}, MAE: {mae}, MSE: {mse}, R2: {r2}')"
   ]
  },
  {
   "cell_type": "markdown",
   "id": "7d3b3ee9-e8e1-4144-a0e6-b1e4f62e8fac",
   "metadata": {},
   "source": [
    "#### With previous video data"
   ]
  },
  {
   "cell_type": "markdown",
   "id": "aedab714-b6b0-426c-8d83-73b7ddbd042e",
   "metadata": {},
   "source": [
    "Model: RandomForestRegressor, MAE: 2074996.7017330027, MSE: 55872604602256.77, R2: 0.6187972790251152\n",
    "\n",
    "Model: XGBRegressor, MAE: 2150861.698505149, MSE: 77971771326171.17, R2: 0.46802101673335283\n",
    "\n",
    "Model: Lasso, MAE: 3252643.0836352184, MSE: 138987867550888.66, R2: 0.0517257308825082"
   ]
  },
  {
   "cell_type": "markdown",
   "id": "8290eea8-b1d7-467a-823b-12f6fb61d7bc",
   "metadata": {},
   "source": [
    "#### Without previous video data"
   ]
  },
  {
   "cell_type": "markdown",
   "id": "d90ab7ee-2980-4669-9f9d-38c502eb35e8",
   "metadata": {},
   "source": [
    "Model: RandomForestRegressor, MAE: 2081482.959581667, MSE: 56436427243572.86, R2: 0.6149504792106627\n",
    "\n",
    "Model: XGBRegressor, MAE: 2071499.5344590796, MSE: 64559375522716.67, R2: 0.559529937992099\n",
    "\n",
    "Model: Lasso, MAE: 3239764.3821198265, MSE: 140310015863701.23, R2: 0.04270509298734637"
   ]
  },
  {
   "cell_type": "markdown",
   "id": "4c641694-c27c-485c-bfdc-18b77bb1ae27",
   "metadata": {},
   "source": [
    "### Saving the model"
   ]
  },
  {
   "cell_type": "code",
   "execution_count": 87,
   "id": "ad2b6433-95dc-4eaa-8a3d-8dc14e2b6036",
   "metadata": {
    "tags": []
   },
   "outputs": [],
   "source": [
    "import pickle\n",
    "\n",
    "with open('../data/rf_model_without_previous.pkl', 'wb') as out:\n",
    "    pickle.dump(rf_best, out, pickle.HIGHEST_PROTOCOL)"
   ]
  },
  {
   "cell_type": "markdown",
   "id": "efa43be4-c1aa-4df5-8a6f-f908c120f27b",
   "metadata": {},
   "source": [
    "## Baselines"
   ]
  },
  {
   "cell_type": "markdown",
   "id": "cc0b0cc5-9265-4986-86d8-f4909d015bd0",
   "metadata": {},
   "source": [
    "#### Baseline 1: Predicting average views"
   ]
  },
  {
   "cell_type": "code",
   "execution_count": 23,
   "id": "144a9df5-ce49-4eb2-895d-10986db689ee",
   "metadata": {
    "tags": []
   },
   "outputs": [
    {
     "name": "stdout",
     "output_type": "stream",
     "text": [
      "Baseline 1, MAE: 3324987.6932239714, MSE: 147921560488945.4, R2: -0.00922628810040127\n"
     ]
    }
   ],
   "source": [
    "avg_views = y_train.mean()\n",
    "y_baseline_1 = [avg_views] * len(y_test)\n",
    "\n",
    "mae = mean_absolute_error(y_test, y_baseline_1)\n",
    "mse = mean_squared_error(y_test, y_baseline_1)\n",
    "r2 = r2_score(y_test, y_baseline_1)\n",
    "print(f'Baseline 1, MAE: {mae}, MSE: {mse}, R2: {r2}')"
   ]
  },
  {
   "cell_type": "markdown",
   "id": "bab66691-e167-49aa-abb7-c5b5d22552ff",
   "metadata": {},
   "source": [
    "#### Baseline 2: Predicting previous video views"
   ]
  },
  {
   "cell_type": "code",
   "execution_count": 44,
   "id": "f2b00d3c-1695-4388-8571-e2002314cd01",
   "metadata": {
    "tags": []
   },
   "outputs": [
    {
     "name": "stdout",
     "output_type": "stream",
     "text": [
      "Baseline 2, MAE: 2192965.9635579074, MSE: 57477095865023.94, R2: 0.607850296340106\n"
     ]
    }
   ],
   "source": [
    "y_baseline_2 = np.exp(X_test.last_video_log_views)\n",
    "\n",
    "mae = mean_absolute_error(y_test, y_baseline_2)\n",
    "mse = mean_squared_error(y_test, y_baseline_2)\n",
    "r2 = r2_score(y_test, y_baseline_2)\n",
    "print(f'Baseline 2, MAE: {mae}, MSE: {mse}, R2: {r2}')"
   ]
  },
  {
   "cell_type": "code",
   "execution_count": null,
   "id": "a1735168-474f-41ea-89dc-7d35af891908",
   "metadata": {},
   "outputs": [],
   "source": []
  }
 ],
 "metadata": {
  "kernelspec": {
   "display_name": "Python 3 (ipykernel)",
   "language": "python",
   "name": "python3"
  },
  "language_info": {
   "codemirror_mode": {
    "name": "ipython",
    "version": 3
   },
   "file_extension": ".py",
   "mimetype": "text/x-python",
   "name": "python",
   "nbconvert_exporter": "python",
   "pygments_lexer": "ipython3",
   "version": "3.10.12"
  }
 },
 "nbformat": 4,
 "nbformat_minor": 5
}
