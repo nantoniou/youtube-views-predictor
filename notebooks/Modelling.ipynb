{
 "cells": [
  {
   "cell_type": "markdown",
   "id": "b4599d17-b9e6-4df2-ad01-d1c55d9b22dd",
   "metadata": {},
   "source": [
    "# Code for everything"
   ]
  },
  {
   "cell_type": "markdown",
   "id": "e6a7186e-341b-428b-bed8-1fece2de9a4b",
   "metadata": {},
   "source": [
    "## Imports"
   ]
  },
  {
   "cell_type": "code",
   "execution_count": 1,
   "id": "462ac0ca-718d-4edd-9ddc-3cfd6217bb9b",
   "metadata": {},
   "outputs": [],
   "source": [
    "import pandas as pd\n",
    "from sklearn.model_selection import train_test_split, GridSearchCV\n",
    "from sklearn.ensemble import RandomForestRegressor\n",
    "from sklearn.model_selection import PredefinedSplit\n",
    "from xgboost import XGBRegressor\n",
    "#from keras.models import Sequential\n",
    "#from keras.layers import Dense, Activation\n",
    "from sklearn.linear_model import Lasso\n",
    "from sklearn.metrics import mean_absolute_error, mean_squared_error, r2_score\n",
    "import numpy as np"
   ]
  },
  {
   "cell_type": "markdown",
   "id": "d53ba9c9-4f64-4662-8805-4805efbeb86b",
   "metadata": {},
   "source": [
    "## Data Loading"
   ]
  },
  {
   "cell_type": "code",
   "execution_count": 2,
   "id": "3584576c-a760-4fd3-a547-18669de1a1f6",
   "metadata": {},
   "outputs": [],
   "source": [
    "df_train = pd.read_csv('../data/US_youtube_trending_train.csv')\n",
    "df_test = pd.read_csv('../data/US_youtube_trending_test.csv')\n",
    "df_val = pd.read_csv('../data/US_youtube_trending_validation.csv')"
   ]
  },
  {
   "cell_type": "code",
   "execution_count": 3,
   "id": "81d880a7-923d-43c9-a9d4-fb523b795135",
   "metadata": {
    "tags": []
   },
   "outputs": [],
   "source": [
    "df_train['face_detected'] = df_train['Face Detected'].astype('bool')\n",
    "df_train['text_detected'] = df_train['Text Detected'].astype('bool')\n",
    "df_train.rename({\"Color Palette\": \"color_palette\"}, axis=1, inplace=True)\n",
    "\n",
    "df_test['face_detected'] = df_test['Face Detected'].astype('bool')\n",
    "df_test['text_detected'] = df_test['Text Detected'].astype('bool')\n",
    "df_test.rename({\"Color Palette\": \"color_palette\"}, axis=1, inplace=True)\n",
    "\n",
    "df_val['face_detected'] = df_val['Face Detected'].astype('bool')\n",
    "df_val['text_detected'] = df_val['Text Detected'].astype('bool')\n",
    "df_val.rename({\"Color Palette\": \"color_palette\"}, axis=1, inplace=True)"
   ]
  },
  {
   "cell_type": "markdown",
   "id": "36b8967d-88b3-4da7-b297-0ebc5387543a",
   "metadata": {},
   "source": [
    "## Selecting columns of interest"
   ]
  },
  {
   "cell_type": "code",
   "execution_count": 4,
   "id": "048bc7cb-123a-495f-843d-db0a365b1311",
   "metadata": {
    "tags": []
   },
   "outputs": [],
   "source": [
    "cols = [\n",
    "'categoryId', 'view_count', 'comments_disabled', 'ratings_disabled', 'hour_of_day_published',\n",
    "'hour_published_normalized', 'time_of_day_published', 'day_of_week_published', 'is_weekend_published',\n",
    "'local_time_of_day_published', 'local_hour_published_normalized', 'published_on_holiday', 'previous_365_days_videos_count',\n",
    "'previous_365_days_avg_views', 'previous_365_days_avg_likes', 'previous_365_days_avg_dislikes', 'previous_365_days_geo_avg_like_dislike_ratio',\n",
    "'previous_365_days_avg_days_on_trending', 'previous_365_days_avg_comment_count', 'last_video_views', 'last_video_likes', 'last_video_dislikes',\n",
    "'last_video_days_on_trending', 'last_video_comment_count', 'previous_avg_days_on_trending',\n",
    "'title_length_chars', 'title_length_words', 'title_avg_word_length', 'title_longest_word_length', 'title_all_upcase',\n",
    "'title_first_upcase', 'title_any_upcase', 'title_prop_upcase', 'title_all_lowercase', 'title_sentiment', 'title_contains_digit',\n",
    "'title_starts_digit', 'title_contains_question', 'title_exclamation_count', 'title_punctuation_count',\n",
    "'title_stop_words_count', 'title_stop_words_prop', 'title_contains_quote', 'Saturation', 'Contrast', 'color_palette', 'text_detected', 'face_detected'\n",
    "]"
   ]
  },
  {
   "cell_type": "code",
   "execution_count": 5,
   "id": "5fc18fff-f954-4d13-bdb7-85b1ec1e6042",
   "metadata": {
    "tags": []
   },
   "outputs": [
    {
     "data": {
      "text/plain": [
       "{'Face Detected',\n",
       " 'Text Detected',\n",
       " 'channelId',\n",
       " 'channelTitle',\n",
       " 'comment_count',\n",
       " 'days_on_trending',\n",
       " 'days_since_published',\n",
       " 'description',\n",
       " 'dislikes',\n",
       " 'dislikes_scaled',\n",
       " 'is_weekend_trending',\n",
       " 'likes',\n",
       " 'likes_scaled',\n",
       " 'local_hour_of_day_published',\n",
       " 'publishedAt',\n",
       " 'tags',\n",
       " 'thumbnail_link',\n",
       " 'title',\n",
       " 'trending_date',\n",
       " 'trending_day_of_week',\n",
       " 'video_id',\n",
       " 'view_count_scaled'}"
      ]
     },
     "execution_count": 5,
     "metadata": {},
     "output_type": "execute_result"
    }
   ],
   "source": [
    "set(df_train.columns) - set(cols)"
   ]
  },
  {
   "cell_type": "code",
   "execution_count": 6,
   "id": "df52522e-7cdd-4154-8c74-414b62a23d86",
   "metadata": {
    "tags": []
   },
   "outputs": [],
   "source": [
    "df_train = df_train[cols]\n",
    "df_test = df_test[cols]\n",
    "df_val = df_val[cols]"
   ]
  },
  {
   "cell_type": "markdown",
   "id": "803d8a96-a0c9-4553-98ce-d1825dc85f95",
   "metadata": {},
   "source": [
    "## Check NaN"
   ]
  },
  {
   "cell_type": "code",
   "execution_count": 7,
   "id": "84213474-8293-46c4-b834-6fb44f5e4e9d",
   "metadata": {
    "tags": []
   },
   "outputs": [
    {
     "data": {
      "text/plain": [
       "previous_365_days_geo_avg_like_dislike_ratio    0.436441\n",
       "previous_365_days_avg_likes                     0.169631\n",
       "previous_365_days_avg_views                     0.169631\n",
       "last_video_comment_count                        0.169631\n",
       "last_video_days_on_trending                     0.169631\n",
       "last_video_dislikes                             0.169631\n",
       "last_video_likes                                0.169631\n",
       "last_video_views                                0.169631\n",
       "previous_365_days_avg_comment_count             0.169631\n",
       "previous_365_days_avg_days_on_trending          0.169631\n",
       "dtype: float64"
      ]
     },
     "execution_count": 7,
     "metadata": {},
     "output_type": "execute_result"
    }
   ],
   "source": [
    "(df_train[cols].isna().sum()/len(df_train)).sort_values(ascending=False).head(10)"
   ]
  },
  {
   "cell_type": "markdown",
   "id": "b877f3d8-b943-45d9-b7b8-6ec181b9ffd1",
   "metadata": {},
   "source": [
    "# TODO: handle nan"
   ]
  },
  {
   "cell_type": "code",
   "execution_count": 8,
   "id": "dc75bfd0-d239-433e-b17b-6a52d3493b30",
   "metadata": {
    "tags": []
   },
   "outputs": [],
   "source": [
    "df_train = df_train.fillna(0)\n",
    "df_test = df_test.fillna(0)\n",
    "df_val = df_val.fillna(0)"
   ]
  },
  {
   "cell_type": "markdown",
   "id": "00b8e95f-f1f8-404d-9e66-5548603865d6",
   "metadata": {},
   "source": [
    "## Selecting categorical columns"
   ]
  },
  {
   "cell_type": "code",
   "execution_count": 9,
   "id": "23882bb7-72c2-4dea-a466-7ba1956f284d",
   "metadata": {
    "tags": []
   },
   "outputs": [
    {
     "data": {
      "text/plain": [
       "Index(['time_of_day_published', 'day_of_week_published',\n",
       "       'local_time_of_day_published', 'color_palette'],\n",
       "      dtype='object')"
      ]
     },
     "execution_count": 9,
     "metadata": {},
     "output_type": "execute_result"
    }
   ],
   "source": [
    "cols_dtypes = df_train[cols].dtypes\n",
    "dummy_cols = cols_dtypes[cols_dtypes == \"object\"].index\n",
    "dummy_cols"
   ]
  },
  {
   "cell_type": "code",
   "execution_count": 10,
   "id": "cd858474-b3d6-47bb-ab69-972e24d3ba17",
   "metadata": {
    "tags": []
   },
   "outputs": [
    {
     "data": {
      "text/plain": [
       "array(['darkslategray', 'lightslategray', 'black', 'silver', 'royalblue',\n",
       "       'midnightblue', 'slategray', 'rosybrown', 'burlywood', 'peru',\n",
       "       'saddlebrown', 'gainsboro', 'darkgray', 'lightsteelblue',\n",
       "       'dimgray', 'lime', 'whitesmoke', 'tan', 'wheat', 'indianred',\n",
       "       'lightgray', 'darkolivegreen', 'thistle', 0, 'maroon',\n",
       "       'darkslateblue', 'powderblue', 'mistyrose', 'gray', 'skyblue',\n",
       "       'forestgreen', 'linen', 'brown', 'sienna', 'cornflowerblue',\n",
       "       'darkkhaki', 'lavender', 'goldenrod', 'khaki', 'seagreen',\n",
       "       'steelblue', 'lightcoral', 'darksalmon', 'palevioletred',\n",
       "       'darkcyan', 'darkseagreen', 'darkgreen', 'white', 'cadetblue',\n",
       "       'lightskyblue', 'plum', 'lightblue', 'beige', 'palegreen',\n",
       "       'indigo', 'orchid', 'lightpink', 'slateblue', 'blueviolet',\n",
       "       'darkgoldenrod', 'olivedrab', 'mediumaquamarine', 'mediumpurple',\n",
       "       'paleturquoise', 'lightgreen', 'snow', 'sandybrown', 'teal',\n",
       "       'mediumorchid', 'bisque', 'yellowgreen', 'pink', 'darkblue',\n",
       "       'olive', 'hotpink', 'mediumseagreen', 'chocolate', 'palegoldenrod',\n",
       "       'mediumblue', 'violet', 'darkviolet', 'dodgerblue', 'antiquewhite',\n",
       "       'turquoise', 'crimson', 'darkred', 'mediumturquoise', 'limegreen',\n",
       "       'red', 'magenta', 'gold', 'darkorange', 'lightsalmon',\n",
       "       'ghostwhite', 'aliceblue', 'oldlace', 'floralwhite', 'purple',\n",
       "       'lightseagreen', 'aquamarine', 'deepskyblue', 'mediumslateblue',\n",
       "       'darkorchid', 'mediumvioletred', 'firebrick', 'lawngreen',\n",
       "       'greenyellow', 'navajowhite', 'orangered', 'peachpuff',\n",
       "       'mintcream', 'seashell', 'deeppink'], dtype=object)"
      ]
     },
     "execution_count": 10,
     "metadata": {},
     "output_type": "execute_result"
    }
   ],
   "source": [
    "df_train.color_palette.unique()"
   ]
  },
  {
   "cell_type": "code",
   "execution_count": 11,
   "id": "15730402-5217-4db3-8a06-735693e9abee",
   "metadata": {
    "tags": []
   },
   "outputs": [
    {
     "data": {
      "text/plain": [
       "{'aliceblue',\n",
       " 'aquamarine',\n",
       " 'blueviolet',\n",
       " 'darkblue',\n",
       " 'darkorange',\n",
       " 'darkviolet',\n",
       " 'deeppink',\n",
       " 'deepskyblue',\n",
       " 'gold',\n",
       " 'greenyellow',\n",
       " 'hotpink',\n",
       " 'lawngreen',\n",
       " 'lightsalmon',\n",
       " 'lime',\n",
       " 'limegreen',\n",
       " 'magenta',\n",
       " 'mediumblue',\n",
       " 'mediumslateblue',\n",
       " 'mintcream',\n",
       " 'oldlace',\n",
       " 'olive',\n",
       " 'orangered',\n",
       " 'orchid',\n",
       " 'turquoise'}"
      ]
     },
     "execution_count": 11,
     "metadata": {},
     "output_type": "execute_result"
    }
   ],
   "source": [
    "set(df_train.color_palette.unique()) - set(df_val.color_palette.unique())"
   ]
  },
  {
   "cell_type": "code",
   "execution_count": 12,
   "id": "caba7af6-c59c-4438-96c7-70490c2f0c28",
   "metadata": {
    "tags": []
   },
   "outputs": [],
   "source": [
    "all_categories = set(df_train['color_palette'].unique()) | \\\n",
    "                 set(df_test['color_palette'].unique()) | \\\n",
    "                 set(df_val['color_palette'].unique())\n",
    "\n",
    "category_mapping = {category: i for i, category in enumerate(all_categories)}\n",
    "\n",
    "def create_dummies(df, category_mapping):\n",
    "    dummies = pd.get_dummies(df['color_palette'])\n",
    "    # Add missing columns based on the full category list\n",
    "    for category in category_mapping:\n",
    "        if category not in dummies:\n",
    "            dummies[category] = 0\n",
    "    # Ensure consistent column order\n",
    "    sorted_keys = sorted(category_mapping.keys(), key=str)\n",
    "    dummies = dummies[sorted_keys]\n",
    "    return dummies\n",
    "\n",
    "train_dummies = create_dummies(df_train, category_mapping)\n",
    "test_dummies = create_dummies(df_test, category_mapping)\n",
    "validation_dummies = create_dummies(df_val, category_mapping)\n",
    "\n",
    "df_train = df_train.drop('color_palette', axis=1).join(train_dummies)\n",
    "df_test = df_test.drop('color_palette', axis=1).join(test_dummies)\n",
    "df_val = df_val.drop('color_palette', axis=1).join(validation_dummies)"
   ]
  },
  {
   "cell_type": "code",
   "execution_count": 13,
   "id": "a67c7046-f0be-46a0-bd19-e529550b23b7",
   "metadata": {
    "tags": []
   },
   "outputs": [],
   "source": [
    "# dummies for color_palette already created\n",
    "dummy_cols = dummy_cols.delete(3)\n",
    "\n",
    "df_train = pd.get_dummies(df_train, columns=dummy_cols)\n",
    "df_test = pd.get_dummies(df_test, columns=dummy_cols)\n",
    "df_val = pd.get_dummies(df_val, columns=dummy_cols)"
   ]
  },
  {
   "cell_type": "markdown",
   "id": "ebb63be4-eb8c-40d9-aebc-fc2a26dc674c",
   "metadata": {},
   "source": [
    "## Training"
   ]
  },
  {
   "cell_type": "code",
   "execution_count": 32,
   "id": "a1113ee0-09ec-4be2-a7a8-269ac5dcaad9",
   "metadata": {
    "tags": []
   },
   "outputs": [],
   "source": [
    "X_train = df_train.loc[:, df_train.columns != \"view_count\"]\n",
    "y_train = df_train[\"view_count\"]\n",
    "\n",
    "X_test = df_test.loc[:, df_test.columns != \"view_count\"]\n",
    "y_test = df_test[\"view_count\"]\n",
    "\n",
    "X_val = df_val.loc[:, df_val.columns != \"view_count\"]\n",
    "y_val = df_val[\"view_count\"]"
   ]
  },
  {
   "cell_type": "code",
   "execution_count": 33,
   "id": "a2704c8f-fdc8-474d-abfd-9da01e3ab7bc",
   "metadata": {
    "tags": []
   },
   "outputs": [],
   "source": [
    "# Create an array where training instances are -1 and validation instances are 0\n",
    "test_fold = [-1 for _ in range(X_train.shape[0])] + [0 for _ in range(X_val.shape[0])]\n",
    "ps = PredefinedSplit(test_fold)\n",
    "\n",
    "X_combined = np.concatenate((X_train, X_val))\n",
    "X_val.columns = X_val.columns.astype(str)\n",
    "y_combined = np.concatenate((y_train, y_val))"
   ]
  },
  {
   "cell_type": "markdown",
   "id": "cc72d2c5-3dd2-44d9-b7b8-ffba9ee195d4",
   "metadata": {},
   "source": [
    "### Random Forest"
   ]
  },
  {
   "cell_type": "code",
   "execution_count": 16,
   "id": "fae8978e-092d-482a-8b20-7ea39727d275",
   "metadata": {},
   "outputs": [
    {
     "name": "stdout",
     "output_type": "stream",
     "text": [
      "Fitting 1 folds for each of 4 candidates, totalling 4 fits\n"
     ]
    }
   ],
   "source": [
    "rf = RandomForestRegressor(random_state=42)\n",
    "rf_params = {'n_estimators': [100, 200], 'max_depth': [10, 20]}\n",
    "#rf_params = {'n_estimators': [100], 'max_depth': [15]}\n",
    "\n",
    "rf_gs = GridSearchCV(rf, rf_params, cv=ps, n_jobs=-1, verbose=3)\n",
    "rf_gs.fit(X_combined, y_combined)\n",
    "rf_best = rf_gs.best_estimator_"
   ]
  },
  {
   "cell_type": "markdown",
   "id": "addb5e1c-6cf1-4dc6-9ca9-0cb583d13873",
   "metadata": {
    "tags": []
   },
   "source": [
    "predictions = rf_best.predict(X_test)\n",
    "mae = mean_absolute_error(y_test, predictions)\n",
    "mse = mean_squared_error(y_test, predictions, squared=False)\n",
    "r2 = r2_score(y_test, predictions)\n",
    "print(f'Model: rf_best, MAE: {round(mae,2)}, RMSE: {round(mse,2)}, R2: {round(r2,3)*100}%')"
   ]
  },
  {
   "cell_type": "markdown",
   "id": "22c490a9-d1de-41fb-99eb-20bd0fbb3721",
   "metadata": {
    "tags": []
   },
   "source": [
    "feats = {} # a dict to hold feature_name: feature_importance\n",
    "for feature, importance in zip(X_train.columns, rf_best.feature_importances_):\n",
    "    feats[feature] = importance #add the name/value pair \n",
    "\n",
    "importances = pd.DataFrame.from_dict(feats, orient='index').rename(columns={0: 'importance'})\n",
    "importances.sort_values(by='importance')[-5:].plot(kind='bar', rot=45)"
   ]
  },
  {
   "cell_type": "markdown",
   "id": "6b0b2384-7bb6-4646-bb5a-19dcb36427c5",
   "metadata": {},
   "source": [
    "#### Export the first three decision trees from the forest\n",
    "\n",
    "for i in range(3):\n",
    "    tree = best_rf.estimators_[i]\n",
    "    dot_data = export_graphviz(tree,\n",
    "                               feature_names=X_train.columns,  \n",
    "                               filled=True,  \n",
    "                               max_depth=2, \n",
    "                               impurity=False, \n",
    "                               proportion=True)\n",
    "    graph = graphviz.Source(dot_data)\n",
    "    display(graph)"
   ]
  },
  {
   "cell_type": "markdown",
   "id": "05287055-bfc3-44be-8cdd-196977144cd2",
   "metadata": {},
   "source": [
    "### XGBoost"
   ]
  },
  {
   "cell_type": "code",
   "execution_count": 17,
   "id": "bbfc7d27-3f94-4ce1-99f6-e56ae1c45935",
   "metadata": {},
   "outputs": [
    {
     "name": "stdout",
     "output_type": "stream",
     "text": [
      "Fitting 1 folds for each of 8 candidates, totalling 8 fits\n"
     ]
    }
   ],
   "source": [
    "xgb = XGBRegressor(random_state=42)\n",
    "xgb_params = {'n_estimators': [100, 200], 'max_depth': [3, 6], 'learning_rate': [0.1, 0.01]}\n",
    "\n",
    "xgb_gs = GridSearchCV(xgb, xgb_params, cv=ps, n_jobs=-1, verbose=3)\n",
    "xgb_gs.fit(X_combined, y_combined)\n",
    "xgb_best = xgb_gs.best_estimator_"
   ]
  },
  {
   "cell_type": "markdown",
   "id": "f3c9b9c3-35c5-4880-8d98-e049768ac383",
   "metadata": {},
   "source": [
    "### Deep Neural Network"
   ]
  },
  {
   "cell_type": "code",
   "execution_count": null,
   "id": "1bf227ed-e2b4-400e-ae74-e9c13efb037d",
   "metadata": {},
   "outputs": [],
   "source": [
    "#nn = Sequential()\n",
    "#nn.add(Dense(64, input_dim=X_train.shape[1]))  # Input layer\n",
    "#nn.add(Activation('relu'))  # Activation for hidden layer\n",
    "#nn.add(Dense(32))  # Hidden layer\n",
    "#nn.add(Activation('relu'))  # Activation for hidden layer\n",
    "#nn.add(Dense(1))  # Output layer\n",
    "\n",
    "#nn.compile(optimizer='adam', loss='mean_squared_error')\n",
    "#nn.fit(X_train, y_train, epochs=100, batch_size=32)  # You might need to adjust epochs and batch_size"
   ]
  },
  {
   "cell_type": "markdown",
   "id": "97cae38b-6997-45ca-b9f7-43e941eb554c",
   "metadata": {},
   "source": [
    "### Lasso\n",
    "\n",
    "<sup><sub>ROBUST NOT SPARSE</sup></sub>"
   ]
  },
  {
   "cell_type": "code",
   "execution_count": 18,
   "id": "961a0997-4145-4f16-b366-678bfe2c93a6",
   "metadata": {},
   "outputs": [
    {
     "name": "stdout",
     "output_type": "stream",
     "text": [
      "Fitting 1 folds for each of 3 candidates, totalling 3 fits\n"
     ]
    },
    {
     "name": "stderr",
     "output_type": "stream",
     "text": [
      "C:\\Users\\Nick\\anaconda3\\Lib\\site-packages\\sklearn\\linear_model\\_coordinate_descent.py:628: ConvergenceWarning: Objective did not converge. You might want to increase the number of iterations, check the scale of the features or consider increasing regularisation. Duality gap: 1.823e+18, tolerance: 5.238e+14\n",
      "  model = cd_fast.enet_coordinate_descent(\n"
     ]
    }
   ],
   "source": [
    "lasso = Lasso()\n",
    "lasso_params = {'alpha': [0.1, 1, 3]}\n",
    "\n",
    "lasso_gs = GridSearchCV(lasso, lasso_params, cv=ps, n_jobs=-1, verbose=3)\n",
    "lasso_gs.fit(X_combined, y_combined)\n",
    "lasso_best = lasso_gs.best_estimator_"
   ]
  },
  {
   "cell_type": "markdown",
   "id": "600e0cc1-b2c8-479d-8e69-f75ee16ccc5f",
   "metadata": {},
   "source": [
    "### Model evaluation"
   ]
  },
  {
   "cell_type": "code",
   "execution_count": 37,
   "id": "e3ae724a-0cfc-4b1c-b11d-1db8006cc730",
   "metadata": {},
   "outputs": [
    {
     "name": "stdout",
     "output_type": "stream",
     "text": [
      "Model: RandomForestRegressor, MAE: 2105430.5032766247, MSE: 60550869670722.95, R2: 0.5868788212006337\n",
      "Model: XGBRegressor, MAE: 2070499.7446413354, MSE: 55345153117759.76, R2: 0.6223959288912498\n",
      "Model: Lasso, MAE: 2256721.077642066, MSE: 56903010965667.805, R2: 0.6117671125913446\n"
     ]
    }
   ],
   "source": [
    "models = [rf_best, xgb_best, lasso_best]#,nn]\n",
    "for model in models:\n",
    "    #if model != nn:  # For non-neural network models\n",
    "    #    predictions = model.predict(X_test)\n",
    "    #else:\n",
    "    #    predictions = nn.predict(X_test).flatten()\n",
    "    predictions = model.predict(X_test.to_numpy())\n",
    "    mae = mean_absolute_error(y_test, predictions)\n",
    "    mse = mean_squared_error(y_test, predictions)\n",
    "    r2 = r2_score(y_test, predictions)\n",
    "    print(f'Model: {model.__class__.__name__}, MAE: {mae}, MSE: {mse}, R2: {r2}')"
   ]
  }
 ],
 "metadata": {
  "kernelspec": {
   "display_name": "Python 3 (ipykernel)",
   "language": "python",
   "name": "python3"
  },
  "language_info": {
   "codemirror_mode": {
    "name": "ipython",
    "version": 3
   },
   "file_extension": ".py",
   "mimetype": "text/x-python",
   "name": "python",
   "nbconvert_exporter": "python",
   "pygments_lexer": "ipython3",
   "version": "3.11.4"
  }
 },
 "nbformat": 4,
 "nbformat_minor": 5
}
